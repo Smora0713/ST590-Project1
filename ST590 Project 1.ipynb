{
 "cells": [
  {
   "cell_type": "markdown",
   "id": "b780b92f-062c-406a-85a0-c55c67c664d0",
   "metadata": {},
   "source": [
    "# ST590 Project 1\n",
    "## Sergio Mora & Vivi Feathers"
   ]
  },
  {
   "cell_type": "code",
   "execution_count": 1,
   "id": "225f7f53-5eb2-49af-b172-cd77c133ba9c",
   "metadata": {},
   "outputs": [],
   "source": [
    "import pandas as pd\n",
    "import numpy  as np\n",
    "import matplotlib as plt"
   ]
  },
  {
   "cell_type": "markdown",
   "id": "2a207881-3f5e-4671-b351-de4625677fb6",
   "metadata": {},
   "source": [
    "# Introduction"
   ]
  },
  {
   "cell_type": "markdown",
   "id": "ba0d785d-1813-498c-9df5-98a35f03d68c",
   "metadata": {},
   "source": [
    "# EDA"
   ]
  },
  {
   "cell_type": "code",
   "execution_count": 3,
   "id": "887b92ef-78ef-43fb-8bea-d8f074b56b3f",
   "metadata": {},
   "outputs": [],
   "source": [
    "### Reading the data\n",
    "bikeDetails = pd.read_csv(\"bikeDetails.csv\")"
   ]
  },
  {
   "cell_type": "markdown",
   "id": "95c0fee2-5991-4ec7-ab86-4f317a686483",
   "metadata": {},
   "source": [
    "# Prediction of *Selling_price*"
   ]
  },
  {
   "cell_type": "markdown",
   "id": "634212fd-a26b-4522-8348-777e60ebbc94",
   "metadata": {},
   "source": [
    "## Loss Function\n",
    "\n",
    "  We start of our analysis with a Loss Function which will help us understand the quality of our methods below. This is done by measuring the Root Mean Square Error (RMSE) which indicates how \"off\" we were in our model. \n",
    "  \n",
    "  RMSE = $\\sqrt{\\frac{1}{n}\\sum_{i=1}^n{L(y_i,c)}} - \\sqrt{\\frac{1}{n}\\sum_{i=1}^n{(y_i - c)^2}}$\n",
    "  \n",
    "For this equation to work we want to find the value for c that minimizes the RMSE meaning we have the least amount of \"Loss\" in our equation."
   ]
  },
  {
   "cell_type": "code",
   "execution_count": null,
   "id": "5ea85077-8e5a-4643-b645-ab16efbec260",
   "metadata": {},
   "outputs": [],
   "source": []
  },
  {
   "cell_type": "code",
   "execution_count": null,
   "id": "385b032b-e9d0-4bee-a5d6-7e34d776aabf",
   "metadata": {},
   "outputs": [],
   "source": []
  },
  {
   "cell_type": "code",
   "execution_count": null,
   "id": "10e3742a-77d4-4953-a63d-076ee3323bc0",
   "metadata": {},
   "outputs": [],
   "source": []
  },
  {
   "cell_type": "code",
   "execution_count": null,
   "id": "2539b6eb-9e2d-4206-b43f-019a6f0b9fd3",
   "metadata": {},
   "outputs": [],
   "source": []
  },
  {
   "cell_type": "code",
   "execution_count": null,
   "id": "04cf5994-4706-4e64-9ca4-dc55d9ba555e",
   "metadata": {},
   "outputs": [],
   "source": []
  },
  {
   "cell_type": "code",
   "execution_count": null,
   "id": "f2b892d3-7eb3-48b2-b774-251b13345aa7",
   "metadata": {},
   "outputs": [],
   "source": []
  },
  {
   "cell_type": "code",
   "execution_count": null,
   "id": "350a1914-a27a-45f8-819e-e4e36b79aa9a",
   "metadata": {},
   "outputs": [],
   "source": []
  },
  {
   "cell_type": "code",
   "execution_count": null,
   "id": "3523b178-72c8-41db-a8d2-2d890cbc7bc8",
   "metadata": {},
   "outputs": [],
   "source": []
  },
  {
   "cell_type": "code",
   "execution_count": null,
   "id": "30aa3fbc-ab97-4af8-8d16-c59352d5c147",
   "metadata": {},
   "outputs": [],
   "source": []
  },
  {
   "cell_type": "code",
   "execution_count": null,
   "id": "6c28640e-57b1-488a-8a55-0163c4110d4c",
   "metadata": {},
   "outputs": [],
   "source": []
  },
  {
   "cell_type": "code",
   "execution_count": null,
   "id": "9464aaa8-f22b-4350-a0e2-25c81bf74124",
   "metadata": {},
   "outputs": [],
   "source": []
  },
  {
   "cell_type": "code",
   "execution_count": null,
   "id": "987d82e9-ef2b-4740-aa2e-5a9f0bd1ce25",
   "metadata": {},
   "outputs": [],
   "source": []
  },
  {
   "cell_type": "code",
   "execution_count": null,
   "id": "143d49b1-59b9-4d00-8a09-122b82143188",
   "metadata": {},
   "outputs": [],
   "source": []
  },
  {
   "cell_type": "code",
   "execution_count": null,
   "id": "9b9b33df-6d7b-4af2-9a5a-b523b37a1e1f",
   "metadata": {},
   "outputs": [],
   "source": []
  },
  {
   "cell_type": "code",
   "execution_count": null,
   "id": "62978438-a0d6-4b93-a994-088c47a3a0a6",
   "metadata": {},
   "outputs": [],
   "source": []
  },
  {
   "cell_type": "code",
   "execution_count": null,
   "id": "5974218e-c7fe-4f0c-9a9a-53649da8a856",
   "metadata": {},
   "outputs": [],
   "source": []
  },
  {
   "cell_type": "code",
   "execution_count": null,
   "id": "f6df4548-355e-4d6a-ad55-dbb6c1b9c077",
   "metadata": {},
   "outputs": [],
   "source": []
  },
  {
   "cell_type": "code",
   "execution_count": null,
   "id": "1c37d06c-9ab7-4878-b910-ccee4d548cb2",
   "metadata": {},
   "outputs": [],
   "source": []
  },
  {
   "cell_type": "code",
   "execution_count": null,
   "id": "4b6ff43b-6ed2-48ed-8b47-cf1a7b5ec91a",
   "metadata": {},
   "outputs": [],
   "source": []
  },
  {
   "cell_type": "code",
   "execution_count": null,
   "id": "1c2ede92-510a-499d-87e6-3786e27c4e45",
   "metadata": {},
   "outputs": [],
   "source": []
  },
  {
   "cell_type": "code",
   "execution_count": null,
   "id": "f87fac08-9a0a-4f03-9cc9-d3717ca56b85",
   "metadata": {},
   "outputs": [],
   "source": []
  },
  {
   "cell_type": "code",
   "execution_count": null,
   "id": "8d81a9e7-635e-4470-a4bf-1acc7d2e4059",
   "metadata": {},
   "outputs": [],
   "source": []
  },
  {
   "cell_type": "code",
   "execution_count": null,
   "id": "ab9b197a-8b45-4b2e-8a14-71321206d187",
   "metadata": {},
   "outputs": [],
   "source": []
  },
  {
   "cell_type": "code",
   "execution_count": null,
   "id": "11680744-5a95-4cd5-b660-72e27613b5e0",
   "metadata": {},
   "outputs": [],
   "source": []
  },
  {
   "cell_type": "code",
   "execution_count": null,
   "id": "3ad1c0cd-2d10-4484-98ca-d9aedacab96d",
   "metadata": {},
   "outputs": [],
   "source": []
  },
  {
   "cell_type": "code",
   "execution_count": null,
   "id": "3f7166eb-da26-4d10-849b-8959bb7eafb1",
   "metadata": {},
   "outputs": [],
   "source": []
  },
  {
   "cell_type": "code",
   "execution_count": null,
   "id": "078c1751-ab2d-4674-8abc-2f07a6795404",
   "metadata": {},
   "outputs": [],
   "source": []
  },
  {
   "cell_type": "code",
   "execution_count": null,
   "id": "c7ef68a4-1dce-49d6-b566-8ffc77a3ec29",
   "metadata": {},
   "outputs": [],
   "source": []
  },
  {
   "cell_type": "code",
   "execution_count": null,
   "id": "5a7daba1-b419-41f5-9938-64b10f354da7",
   "metadata": {},
   "outputs": [],
   "source": []
  },
  {
   "cell_type": "code",
   "execution_count": null,
   "id": "67692531-286f-4308-986f-9653f4ff2eaf",
   "metadata": {},
   "outputs": [],
   "source": []
  },
  {
   "cell_type": "code",
   "execution_count": null,
   "id": "56537b2e-0077-4ab5-8285-08bb8792617e",
   "metadata": {},
   "outputs": [],
   "source": []
  },
  {
   "cell_type": "code",
   "execution_count": null,
   "id": "0a7fff7f-7794-4102-9c01-73062fc08d2d",
   "metadata": {},
   "outputs": [],
   "source": []
  },
  {
   "cell_type": "code",
   "execution_count": null,
   "id": "805458e6-e853-4c94-8f17-8cd30920b834",
   "metadata": {},
   "outputs": [],
   "source": []
  },
  {
   "cell_type": "code",
   "execution_count": null,
   "id": "74ea0063-07ea-45a2-be31-5ca38ce62ce0",
   "metadata": {},
   "outputs": [],
   "source": []
  },
  {
   "cell_type": "code",
   "execution_count": null,
   "id": "a44499ab-2e90-4a3e-8eff-5e1ffe098dfc",
   "metadata": {},
   "outputs": [],
   "source": []
  },
  {
   "cell_type": "code",
   "execution_count": null,
   "id": "6a5f7ac9-c4ae-4354-8903-2e1c0d1bb40f",
   "metadata": {},
   "outputs": [],
   "source": []
  },
  {
   "cell_type": "code",
   "execution_count": null,
   "id": "b61cf74c-bfbf-4140-a0f3-acd193601644",
   "metadata": {},
   "outputs": [],
   "source": []
  },
  {
   "cell_type": "code",
   "execution_count": null,
   "id": "fa81bd17-1d41-4ec8-b99c-d284a7e83cf9",
   "metadata": {},
   "outputs": [],
   "source": []
  },
  {
   "cell_type": "code",
   "execution_count": null,
   "id": "88024afc-5aa6-4683-b477-f9dce78e4a85",
   "metadata": {},
   "outputs": [],
   "source": []
  },
  {
   "cell_type": "code",
   "execution_count": null,
   "id": "3a286734-efc2-4824-bb15-1a2d35f90411",
   "metadata": {},
   "outputs": [],
   "source": []
  },
  {
   "cell_type": "code",
   "execution_count": null,
   "id": "e68928e0-c885-4dbf-b46d-a9fbd027a7f4",
   "metadata": {},
   "outputs": [],
   "source": []
  },
  {
   "cell_type": "code",
   "execution_count": null,
   "id": "f2f6fec3-e79f-46af-ac79-bd8f86573c75",
   "metadata": {},
   "outputs": [],
   "source": []
  },
  {
   "cell_type": "code",
   "execution_count": null,
   "id": "88829993-5e97-4449-915d-5df1c1217c2a",
   "metadata": {},
   "outputs": [],
   "source": []
  },
  {
   "cell_type": "code",
   "execution_count": null,
   "id": "e09cac20-6a53-4d3b-8b1a-82689ef9ec43",
   "metadata": {},
   "outputs": [],
   "source": []
  },
  {
   "cell_type": "code",
   "execution_count": null,
   "id": "a2b9a95f-9dd6-4afc-86da-a7b2c3552511",
   "metadata": {},
   "outputs": [],
   "source": []
  },
  {
   "cell_type": "code",
   "execution_count": null,
   "id": "d856151d-6dfc-4f9e-bfd2-594c84f2bdb9",
   "metadata": {},
   "outputs": [],
   "source": []
  },
  {
   "cell_type": "code",
   "execution_count": null,
   "id": "bcd90727-f02d-408d-be82-19c8834d0a27",
   "metadata": {},
   "outputs": [],
   "source": []
  },
  {
   "cell_type": "code",
   "execution_count": null,
   "id": "78366870-a5a3-4830-bec8-cc0ced424fc4",
   "metadata": {},
   "outputs": [],
   "source": []
  },
  {
   "cell_type": "code",
   "execution_count": null,
   "id": "f4e87361-4ffc-44f3-ba6a-062b648f27d0",
   "metadata": {},
   "outputs": [],
   "source": []
  },
  {
   "cell_type": "code",
   "execution_count": null,
   "id": "481edd17-c0fb-4c17-a41a-d3bf45a94d0d",
   "metadata": {},
   "outputs": [],
   "source": []
  },
  {
   "cell_type": "code",
   "execution_count": null,
   "id": "561e8bae-fe3b-444e-b950-8991b2be5b46",
   "metadata": {},
   "outputs": [],
   "source": []
  },
  {
   "cell_type": "code",
   "execution_count": null,
   "id": "e9d2ac3b-0c5f-4f8f-a641-1e01b237b3c5",
   "metadata": {},
   "outputs": [],
   "source": []
  },
  {
   "cell_type": "code",
   "execution_count": null,
   "id": "858bf852-ad03-4c5c-8fa5-adb4fbfda2d8",
   "metadata": {},
   "outputs": [],
   "source": []
  },
  {
   "cell_type": "code",
   "execution_count": null,
   "id": "c79e0524-e862-44d1-a554-39c27bed50eb",
   "metadata": {},
   "outputs": [],
   "source": []
  },
  {
   "cell_type": "code",
   "execution_count": null,
   "id": "6d022995-588e-424a-bef7-8237ef80d9de",
   "metadata": {},
   "outputs": [],
   "source": []
  },
  {
   "cell_type": "code",
   "execution_count": null,
   "id": "bf285985-116a-4153-a015-ef58377d2ac2",
   "metadata": {},
   "outputs": [],
   "source": []
  },
  {
   "cell_type": "code",
   "execution_count": null,
   "id": "80e08635-0887-4599-a34f-16c5f65a6e7b",
   "metadata": {},
   "outputs": [],
   "source": []
  },
  {
   "cell_type": "code",
   "execution_count": null,
   "id": "3726a3bc-ebaa-4eb7-a963-c1709078bb51",
   "metadata": {},
   "outputs": [],
   "source": []
  },
  {
   "cell_type": "code",
   "execution_count": null,
   "id": "e048858d-6e32-4590-9a79-cc2fe21d0c75",
   "metadata": {},
   "outputs": [],
   "source": []
  },
  {
   "cell_type": "code",
   "execution_count": null,
   "id": "eb5fcbd9-1adb-434f-b507-e95b134d0812",
   "metadata": {},
   "outputs": [],
   "source": []
  },
  {
   "cell_type": "code",
   "execution_count": null,
   "id": "ba711fbf-d73e-480a-b712-26e45b1ba097",
   "metadata": {},
   "outputs": [],
   "source": []
  },
  {
   "cell_type": "code",
   "execution_count": null,
   "id": "bde9de34-ff12-49e8-b421-01eb898f6221",
   "metadata": {},
   "outputs": [],
   "source": []
  },
  {
   "cell_type": "code",
   "execution_count": null,
   "id": "e0d075cb-90ad-4f0c-a5bf-b3ee16f407de",
   "metadata": {},
   "outputs": [],
   "source": []
  },
  {
   "cell_type": "code",
   "execution_count": null,
   "id": "24f78d6d-b770-4396-8576-0ac7f53f2f32",
   "metadata": {},
   "outputs": [],
   "source": []
  },
  {
   "cell_type": "code",
   "execution_count": null,
   "id": "9f8958f5-be38-4614-93d4-0d946981c1a1",
   "metadata": {},
   "outputs": [],
   "source": []
  },
  {
   "cell_type": "code",
   "execution_count": null,
   "id": "36eb2e82-6b8d-41a9-9254-80f521f833d0",
   "metadata": {},
   "outputs": [],
   "source": []
  },
  {
   "cell_type": "code",
   "execution_count": null,
   "id": "c963661c-f2b1-4016-a44d-a38d2c573e3f",
   "metadata": {},
   "outputs": [],
   "source": []
  }
 ],
 "metadata": {
  "kernelspec": {
   "display_name": "Python 3 (ipykernel)",
   "language": "python",
   "name": "python3"
  },
  "language_info": {
   "codemirror_mode": {
    "name": "ipython",
    "version": 3
   },
   "file_extension": ".py",
   "mimetype": "text/x-python",
   "name": "python",
   "nbconvert_exporter": "python",
   "pygments_lexer": "ipython3",
   "version": "3.9.7"
  }
 },
 "nbformat": 4,
 "nbformat_minor": 5
}
