{
 "cells": [
  {
   "cell_type": "markdown",
   "id": "b780b92f-062c-406a-85a0-c55c67c664d0",
   "metadata": {},
   "source": [
    "# <font color=\"Yellow\"><b>ST590 Project 1</b></font>\n",
    "## <font color=\"Green\">Sergio Mora & Vivi Feathers</font>"
   ]
  },
  {
   "cell_type": "markdown",
   "id": "2a207881-3f5e-4671-b351-de4625677fb6",
   "metadata": {},
   "source": [
    "# <font color=\"red\"><b>Introduction</b></font>\n",
    "<font color=\"green\">Purples:</font> Predict a value of <i>selling_price</i> for a new motorcycle.\n",
    "\n",
    "<font color=\"green\">Dataset name:</font> <b>BikeDetails</b> <br>\n",
    "This dataset contains information about used motorcycles, including their features and selling prices.\n",
    "\n",
    "<font color=\"green\">Variables used:</font> <i>selling_price</i>, <i>km_driven</i>\n",
    "<style>\n",
    "        .tab1 {\n",
    "            tab-size: 2;\n",
    "        }\n",
    "    </style>\n",
    "<font color=\"green\">Methods:</font><br>\n",
    "<pre class=\"tab1\">1. Grid search</pre>\n",
    "<pre class=\"tab1\">2. Gradient descent</pre>\n",
    "        \n",
    "<font color=\"green\">Algorithms:</font><br>\n",
    "<pre class=\"tab1\">1. Using only <i>selling_price</i> to predict c</pre>\n",
    "<pre class=\"tab1\">2. Using simple linear regression with <i>selling_price</i> and <i>km_driven</i> to predict c</pre>\n",
    " \n",
    "<font color=\"green\">Modules:</font><br>\n",
    "<pre class=\"tab1\">1. pandas</pre>\n",
    "<pre class=\"tab1\">2. numpy</pre>\n",
    "<pre class=\"tab1\">3. matplotlib.pyplot</pre>\n",
    "<pre class=\"tab1\">4. scipy.stats</pre>\n",
    "<pre class=\"tab1\">5. sklearn.linear_model</pre>\n",
    "<pre class=\"tab1\">6. random</pre>\n",
    "\n",
    " ## <font color=\"red\">Read in dataset and display the first several rows</font>"
   ]
  },
  {
   "cell_type": "code",
   "execution_count": 1,
   "id": "225f7f53-5eb2-49af-b172-cd77c133ba9c",
   "metadata": {},
   "outputs": [],
   "source": [
    "### Import modules\n",
    "import pandas as pd\n",
    "import numpy  as np\n",
    "import matplotlib.pyplot as plt\n",
    "import scipy.stats as stat\n",
    "from sklearn.linear_model import LinearRegression\n",
    "import random as rd"
   ]
  },
  {
   "cell_type": "code",
   "execution_count": 2,
   "id": "887b92ef-78ef-43fb-8bea-d8f074b56b3f",
   "metadata": {},
   "outputs": [],
   "source": [
    "### Reading the data\n",
    "bikeDetails = pd.read_csv(\"bikeDetails.csv\")"
   ]
  },
  {
   "cell_type": "code",
   "execution_count": 3,
   "id": "a1ea8119-07ab-4ad1-ba16-22cb3b0244f7",
   "metadata": {},
   "outputs": [
    {
     "name": "stdout",
     "output_type": "stream",
     "text": [
      "(1061, 7)\n"
     ]
    },
    {
     "data": {
      "text/html": [
       "<div>\n",
       "<style scoped>\n",
       "    .dataframe tbody tr th:only-of-type {\n",
       "        vertical-align: middle;\n",
       "    }\n",
       "\n",
       "    .dataframe tbody tr th {\n",
       "        vertical-align: top;\n",
       "    }\n",
       "\n",
       "    .dataframe thead th {\n",
       "        text-align: right;\n",
       "    }\n",
       "</style>\n",
       "<table border=\"1\" class=\"dataframe\">\n",
       "  <thead>\n",
       "    <tr style=\"text-align: right;\">\n",
       "      <th></th>\n",
       "      <th>name</th>\n",
       "      <th>selling_price</th>\n",
       "      <th>year</th>\n",
       "      <th>seller_type</th>\n",
       "      <th>owner</th>\n",
       "      <th>km_driven</th>\n",
       "      <th>ex_showroom_price</th>\n",
       "    </tr>\n",
       "  </thead>\n",
       "  <tbody>\n",
       "    <tr>\n",
       "      <th>0</th>\n",
       "      <td>Royal Enfield Classic 350</td>\n",
       "      <td>175000</td>\n",
       "      <td>2019</td>\n",
       "      <td>Individual</td>\n",
       "      <td>1st owner</td>\n",
       "      <td>350</td>\n",
       "      <td>NaN</td>\n",
       "    </tr>\n",
       "    <tr>\n",
       "      <th>1</th>\n",
       "      <td>Honda Dio</td>\n",
       "      <td>45000</td>\n",
       "      <td>2017</td>\n",
       "      <td>Individual</td>\n",
       "      <td>1st owner</td>\n",
       "      <td>5650</td>\n",
       "      <td>NaN</td>\n",
       "    </tr>\n",
       "    <tr>\n",
       "      <th>2</th>\n",
       "      <td>Royal Enfield Classic Gunmetal Grey</td>\n",
       "      <td>150000</td>\n",
       "      <td>2018</td>\n",
       "      <td>Individual</td>\n",
       "      <td>1st owner</td>\n",
       "      <td>12000</td>\n",
       "      <td>148114.0</td>\n",
       "    </tr>\n",
       "    <tr>\n",
       "      <th>3</th>\n",
       "      <td>Yamaha Fazer FI V 2.0 [2016-2018]</td>\n",
       "      <td>65000</td>\n",
       "      <td>2015</td>\n",
       "      <td>Individual</td>\n",
       "      <td>1st owner</td>\n",
       "      <td>23000</td>\n",
       "      <td>89643.0</td>\n",
       "    </tr>\n",
       "    <tr>\n",
       "      <th>4</th>\n",
       "      <td>Yamaha SZ [2013-2014]</td>\n",
       "      <td>20000</td>\n",
       "      <td>2011</td>\n",
       "      <td>Individual</td>\n",
       "      <td>2nd owner</td>\n",
       "      <td>21000</td>\n",
       "      <td>NaN</td>\n",
       "    </tr>\n",
       "  </tbody>\n",
       "</table>\n",
       "</div>"
      ],
      "text/plain": [
       "                                  name  selling_price  year seller_type  \\\n",
       "0            Royal Enfield Classic 350         175000  2019  Individual   \n",
       "1                            Honda Dio          45000  2017  Individual   \n",
       "2  Royal Enfield Classic Gunmetal Grey         150000  2018  Individual   \n",
       "3    Yamaha Fazer FI V 2.0 [2016-2018]          65000  2015  Individual   \n",
       "4                Yamaha SZ [2013-2014]          20000  2011  Individual   \n",
       "\n",
       "       owner  km_driven  ex_showroom_price  \n",
       "0  1st owner        350                NaN  \n",
       "1  1st owner       5650                NaN  \n",
       "2  1st owner      12000           148114.0  \n",
       "3  1st owner      23000            89643.0  \n",
       "4  2nd owner      21000                NaN  "
      ]
     },
     "execution_count": 3,
     "metadata": {},
     "output_type": "execute_result"
    }
   ],
   "source": [
    "### Data structure and first several rows\n",
    "a=bikeDetails.shape\n",
    "print(a)\n",
    "bikeDetails.head()"
   ]
  },
  {
   "cell_type": "markdown",
   "id": "95c0fee2-5991-4ec7-ab86-4f317a686483",
   "metadata": {},
   "source": [
    "# <font color=\"red\"><b>EDA</b></font>\n",
    "## <font color=\"Green\"><i>selling_price</i></font>"
   ]
  },
  {
   "cell_type": "code",
   "execution_count": 4,
   "id": "f7813209-8e9c-4ec5-bcf1-c2a5eb6923a3",
   "metadata": {},
   "outputs": [
    {
     "data": {
      "text/plain": [
       "count      1061.000000\n",
       "mean      59638.151744\n",
       "std       56304.291973\n",
       "min        5000.000000\n",
       "25%       28000.000000\n",
       "50%       45000.000000\n",
       "75%       70000.000000\n",
       "max      760000.000000\n",
       "Name: selling_price, dtype: float64"
      ]
     },
     "execution_count": 4,
     "metadata": {},
     "output_type": "execute_result"
    }
   ],
   "source": [
    "### General information\n",
    "bikeDetails[\"selling_price\"].describe(percentiles=[0.25, 0.75])"
   ]
  },
  {
   "cell_type": "code",
   "execution_count": 5,
   "id": "4160ffc7-e5a0-4cfe-9e8b-b8edf433eb5d",
   "metadata": {},
   "outputs": [
    {
     "name": "stdout",
     "output_type": "stream",
     "text": [
      "2.972154042832937e-42\n",
      "The meidian of selling_price is 45000.0\n",
      "The first quartile of selling_price is 0.25    28000.0\n",
      "Name: selling_price, dtype: float64\n",
      "The third quartile of selling_price is 0.75    70000.0\n",
      "Name: selling_price, dtype: float64\n",
      "The IQR of selling_price is 42000.0\n"
     ]
    }
   ],
   "source": [
    "# Check normality #\n",
    "import scipy.stats as stat\n",
    "stat, p = stat.shapiro(bikeDetails[\"selling_price\"])\n",
    "print(p)\n",
    "# not normally distributed, use median and IQR #\n",
    "median_price = bikeDetails[\"selling_price\"].median()\n",
    "q1_price = bikeDetails[\"selling_price\"].quantile(q = [0.25])\n",
    "q3_price = bikeDetails[\"selling_price\"].quantile(q = [0.75])\n",
    "IQR_price = q3_price[0.75] - q1_price[0.25]\n",
    "print(\"The meidian of selling_price is\", median_price)\n",
    "print(\"The first quartile of selling_price is\", q1_price)\n",
    "print(\"The third quartile of selling_price is\", q3_price)\n",
    "print(\"The IQR of selling_price is\", IQR_price)"
   ]
  },
  {
   "cell_type": "code",
   "execution_count": 6,
   "id": "53db88fb-8942-4a4b-8603-a7abe1a106de",
   "metadata": {},
   "outputs": [
    {
     "name": "stdout",
     "output_type": "stream",
     "text": [
      "             selling_price\n",
      "seller_type               \n",
      "Dealer             44000.0\n",
      "Individual         45000.0\n",
      "                  selling_price\n",
      "seller_type                    \n",
      "Dealer      0.25        28250.0\n",
      "Individual  0.25        28000.0\n",
      "                  selling_price\n",
      "seller_type                    \n",
      "Dealer      0.25        28250.0\n",
      "Individual  0.25        28000.0\n"
     ]
    }
   ],
   "source": [
    "### Median, Q1 and Q3 of selling_price in different seller_type groups\n",
    "bikeDetails.seller_type = bikeDetails.seller_type.astype(\"category\")\n",
    "bike_sub = bikeDetails.loc[:,[\"seller_type\",\"selling_price\"]]\n",
    "price_group_median=bike_sub.groupby(\"seller_type\").median()\n",
    "print(price_group_median)\n",
    "price_group_q1=bike_sub.groupby(\"seller_type\").quantile(q = [0.25])\n",
    "print(price_group_q1)\n",
    "price_group_q3=bike_sub.groupby(\"seller_type\").quantile(q = [0.25])\n",
    "print(price_group_q3)"
   ]
  },
  {
   "cell_type": "markdown",
   "id": "a3552ae5-6589-4834-8dd9-a588272f6838",
   "metadata": {},
   "source": [
    "## <font color=\"Green\"><i>km_driven</i></font>"
   ]
  },
  {
   "cell_type": "code",
   "execution_count": 7,
   "id": "631a03c7-68ac-44e3-b3e9-fd9cc587ddc9",
   "metadata": {},
   "outputs": [
    {
     "data": {
      "text/plain": [
       "count      1061.000000\n",
       "mean      34359.833176\n",
       "std       51623.152702\n",
       "min         350.000000\n",
       "25%       13500.000000\n",
       "50%       25000.000000\n",
       "75%       43000.000000\n",
       "max      880000.000000\n",
       "Name: km_driven, dtype: float64"
      ]
     },
     "execution_count": 7,
     "metadata": {},
     "output_type": "execute_result"
    }
   ],
   "source": [
    "### General information\n",
    "bikeDetails[\"km_driven\"].describe(percentiles=[0.25, 0.75])"
   ]
  },
  {
   "cell_type": "code",
   "execution_count": 8,
   "id": "555eabfa-0ebd-43e4-a60c-23c23a084448",
   "metadata": {},
   "outputs": [
    {
     "name": "stdout",
     "output_type": "stream",
     "text": [
      "0.0\n",
      "The meidian of km_driven is 25000.0\n",
      "The first quartile of km_driven is 0.25    13500.0\n",
      "Name: km_driven, dtype: float64\n",
      "The third quartile of km_driven is 0.75    43000.0\n",
      "Name: km_driven, dtype: float64\n",
      "The IQR of km_driven is 29500.0\n"
     ]
    }
   ],
   "source": [
    "# Check normality #\n",
    "import scipy.stats as stat\n",
    "stat, p = stat.shapiro(bikeDetails[\"km_driven\"])\n",
    "print(p)\n",
    "# not normally distributed, use median and IQR #\n",
    "median_km = bikeDetails[\"km_driven\"].median()\n",
    "q1_km = bikeDetails[\"km_driven\"].quantile(q = [0.25])\n",
    "q3_km = bikeDetails[\"km_driven\"].quantile(q = [0.75])\n",
    "IQR_km = q3_km[0.75] - q1_km[0.25]\n",
    "print(\"The meidian of km_driven is\", median_km)\n",
    "print(\"The first quartile of km_driven is\", q1_km)\n",
    "print(\"The third quartile of km_driven is\", q3_km)\n",
    "print(\"The IQR of km_driven is\", IQR_km)"
   ]
  },
  {
   "cell_type": "markdown",
   "id": "6cdd89c4-8e4d-49ab-aa9e-b7c24ec3fe97",
   "metadata": {},
   "source": [
    "## <font color=\"red\">Correlation between</font> <font color=\"Green\"><i>selling_price</i></font> <font color=\"red\">and</font> <font color=\"Green\"><i>km_driven</i></font>"
   ]
  },
  {
   "cell_type": "code",
   "execution_count": 9,
   "id": "c9c4cd0f-96d1-4f2a-b25c-72ed481bbe0f",
   "metadata": {},
   "outputs": [
    {
     "data": {
      "text/html": [
       "<div>\n",
       "<style scoped>\n",
       "    .dataframe tbody tr th:only-of-type {\n",
       "        vertical-align: middle;\n",
       "    }\n",
       "\n",
       "    .dataframe tbody tr th {\n",
       "        vertical-align: top;\n",
       "    }\n",
       "\n",
       "    .dataframe thead th {\n",
       "        text-align: right;\n",
       "    }\n",
       "</style>\n",
       "<table border=\"1\" class=\"dataframe\">\n",
       "  <thead>\n",
       "    <tr style=\"text-align: right;\">\n",
       "      <th></th>\n",
       "      <th>selling_price</th>\n",
       "      <th>km_driven</th>\n",
       "    </tr>\n",
       "  </thead>\n",
       "  <tbody>\n",
       "    <tr>\n",
       "      <th>selling_price</th>\n",
       "      <td>1.000000</td>\n",
       "      <td>-0.212937</td>\n",
       "    </tr>\n",
       "    <tr>\n",
       "      <th>km_driven</th>\n",
       "      <td>-0.212937</td>\n",
       "      <td>1.000000</td>\n",
       "    </tr>\n",
       "  </tbody>\n",
       "</table>\n",
       "</div>"
      ],
      "text/plain": [
       "               selling_price  km_driven\n",
       "selling_price       1.000000  -0.212937\n",
       "km_driven          -0.212937   1.000000"
      ]
     },
     "execution_count": 9,
     "metadata": {},
     "output_type": "execute_result"
    }
   ],
   "source": [
    "### Correlation Matrix\n",
    "bikeDetails[[\"selling_price\", \"km_driven\"]].corr(method='pearson')"
   ]
  },
  {
   "cell_type": "code",
   "execution_count": 10,
   "id": "f6bff74e-ddc5-4348-9dbf-5d2aab96eb42",
   "metadata": {},
   "outputs": [
    {
     "data": {
      "text/plain": [
       "(-0.2129367071445366, 2.411679611918878e-12)"
      ]
     },
     "execution_count": 10,
     "metadata": {},
     "output_type": "execute_result"
    }
   ],
   "source": [
    "### Pearson correlation\n",
    "import scipy.stats as stat\n",
    "stat.pearsonr(bikeDetails.selling_price, bikeDetails.km_driven)\n",
    "### the P value is smaller than 0.05, and the correlation coefficient is -0.2129, significate negative correlation."
   ]
  },
  {
   "cell_type": "markdown",
   "id": "3794418b-d75a-4bd7-9aa4-958efe998bdf",
   "metadata": {},
   "source": [
    "## <font color=\"red\">Linear Regression Model of</font> <font color=\"Green\"><i>selling_price</i></font> <font color=\"red\">and</font> <font color=\"Green\"><i>km_driven</i></font>"
   ]
  },
  {
   "cell_type": "code",
   "execution_count": 11,
   "id": "843cd03a-8c18-45ff-bb3a-d00043c4ae27",
   "metadata": {},
   "outputs": [
    {
     "name": "stdout",
     "output_type": "stream",
     "text": [
      "b0 =  [67618.07212024] \n",
      "b1 =  [[-0.23224561]]\n"
     ]
    }
   ],
   "source": [
    "x=bikeDetails.km_driven.values.reshape(-1, 1)\n",
    "y=bikeDetails.selling_price.values.reshape(-1, 1)\n",
    "#print(x)\n",
    "#print(y)\n",
    "model = LinearRegression().fit(x, y)\n",
    "print(\"b0 = \", model.intercept_, \"\\nb1 = \", model.coef_)"
   ]
  },
  {
   "cell_type": "markdown",
   "id": "262b6e5e-4578-4bdf-96a5-c53c9c662b0a",
   "metadata": {},
   "source": [
    "## <font color=\"red\">Subset the data for 100 times and get 100 Linear Regression Models of</font> <font color=\"Green\"><i>selling_price</i></font> <font color=\"red\">and</font> <font color=\"Green\"><i>km_driven</i></font><font color=\"red\">, return b0 and b1 lists</font>"
   ]
  },
  {
   "cell_type": "code",
   "execution_count": 12,
   "id": "34f1e2ab-35cd-4e33-ad6a-a2c87373d882",
   "metadata": {},
   "outputs": [
    {
     "name": "stdout",
     "output_type": "stream",
     "text": [
      "list of b0 values:  [[59662.02758206749], [69195.69721129481], [66695.32367225776], [68614.86461326602], [67288.39861165146], [51565.76080510489], [76380.49346203012], [49258.27220959715], [62502.195204782576], [50153.69809813239], [71169.53003217332], [67027.2157933954], [55739.74024297827], [61134.213727863884], [59749.56581690724], [78018.21956209879], [46441.695283950365], [68505.6507327661], [61686.031903365154], [52696.879154573246], [60587.69576802571], [49744.44464583941], [56437.80128380519], [62530.13109876917], [68310.07601675426], [64276.57965730336], [54383.16535901601], [63999.59612726032], [70933.50870979349], [55684.70822139292], [56481.92075979243], [63419.165733666945], [81145.77460223771], [67435.12571734993], [54583.421753628696], [58910.680798159745], [44829.69001032406], [64540.85590973305], [60283.006659254555], [60329.42243966124], [62067.909320432875], [60429.81266747786], [54437.89179212964], [59314.77863756325], [61972.841433163965], [54751.73869272285], [64308.00836496391], [59556.20790947194], [71776.74673131936], [38564.31681862722], [48924.948828010834], [67407.60749069418], [71320.43386286464], [65960.48844600079], [50370.519501523515], [69804.26434046999], [56710.95758963921], [50071.57453876103], [63603.50524261525], [44707.45487962365], [53005.38882007746], [70555.64219654401], [51884.082145843124], [60584.94008538526], [58460.74006925445], [63370.57339025842], [61740.202891239416], [57197.18967617569], [53434.11014615028], [62812.24825686024], [59234.27229767447], [55744.768066649536], [63234.236954088614], [58386.431414092636], [52279.533610462444], [61928.68328326338], [56783.768505010536], [62235.91655080662], [52380.4216931454], [44699.894938682286], [78206.25282160955], [58264.40786270151], [71930.69609894523], [52906.55887043207], [61152.059265265605], [82744.96550539468], [57904.67993423048], [53642.98004767325], [61050.01455570482], [57046.668369729276], [51697.181761340624], [57994.98429955762], [55155.69551972771], [59132.959962690045], [57831.72788771698], [61339.57057137669], [57069.519749738516], [72015.75617019691], [76277.67998184338], [63447.915451692505]]\n",
      " \n",
      " \n",
      "list of b0 values:  [[[0.026769204672563898]], [[-0.09955602598591702]], [[0.054803929799688754]], [[-0.0215389323226695]], [[0.002335271591145653]], [[0.23381835115257643]], [[-0.3441790020487083]], [[-0.030714852050276853]], [[-0.02425129618004955]], [[-0.007506441147729002]], [[-0.10386455807206657]], [[-0.06002175305430789]], [[-0.1337064098196303]], [[-0.05549196035745246]], [[0.011025032416807565]], [[-0.41057610262002797]], [[0.2799545952889053]], [[-0.08238043132172143]], [[-0.025229625426883312]], [[0.013957268687159751]], [[-0.060918091165347854]], [[-0.014950406575057666]], [[-0.02085125566956786]], [[0.10457492150750354]], [[-0.08977429770458024]], [[-0.1313379278023646]], [[0.07787550552225772]], [[0.03873307733929286]], [[-0.28227289019113955]], [[0.07526641625909795]], [[0.1068416929588527]], [[-0.1066911590070305]], [[-0.07147993184004273]], [[-0.12251886199890635]], [[0.1842597180337436]], [[-0.013980670078975362]], [[0.46613030714782044]], [[-0.07311913668649972]], [[0.015395561442185426]], [[-0.05949346991862758]], [[0.01757302664951936]], [[-0.046481387008431616]], [[0.0916892789755301]], [[-0.057708734577776]], [[-0.03471116753220918]], [[0.10942222767556417]], [[8.925362207710084e-05]], [[-0.054443085963595844]], [[-0.07011458130694857]], [[0.8723601677091921]], [[0.04792344058215905]], [[-0.39539190368697713]], [[-0.31360525800524697]], [[-0.17092327445566954]], [[0.09821714088606992]], [[-0.07393173030503764]], [[0.0897217089520874]], [[0.055290450022637855]], [[-0.08418561576637996]], [[0.3250741004293758]], [[0.35218824756910294]], [[-0.20926565750456347]], [[0.11598807353702255]], [[0.06232409176411859]], [[0.1173144585611547]], [[-0.09586317580860217]], [[-0.11687592804618267]], [[-0.05423487516278644]], [[0.24650294300863854]], [[-0.09633735689040962]], [[0.03654461743121428]], [[0.06403724274592143]], [[-0.23226261649986257]], [[-0.044353292864649896]], [[0.21147124535632375]], [[-0.36777187551734314]], [[-0.00043337956156250945]], [[-0.026734984065084892]], [[0.05100533550064828]], [[0.13153883814978096]], [[-0.06346256108320131]], [[-0.24729187363062616]], [[-0.4042363242576149]], [[-0.012642265714625832]], [[-0.0025976297336548705]], [[-0.661439674526759]], [[0.002653500430070631]], [[-0.06732782286702002]], [[-0.05818316980226995]], [[-0.0605752366336978]], [[0.21218204039948363]], [[-0.05629552162018315]], [[0.032550558002063565]], [[0.03347112720682288]], [[-0.020484358899272224]], [[-0.10918649753919071]], [[-0.07152820134035737]], [[-0.08899832035259006]], [[-0.27055975257210985]], [[-0.10955622688657332]]]\n"
     ]
    }
   ],
   "source": [
    "b0 = []\n",
    "b1 = []\n",
    "for i in range (0, 100):\n",
    "    x = bikeDetails.km_driven.sample(n=100).values.reshape(-1, 1)\n",
    "    y = bikeDetails.selling_price.sample(n=100).values.reshape(-1, 1)\n",
    "    #print(x)\n",
    "    #print(y)\n",
    "    model = LinearRegression().fit(x, y)\n",
    "    b0_now = model.intercept_.tolist()\n",
    "    b1_now = model.coef_.tolist()\n",
    "    b0.append(b0_now)\n",
    "    b1.append(b1_now)\n",
    "print(\"list of b0 values: \",b0)\n",
    "print(\" \")\n",
    "print(\" \")\n",
    "print(\"list of b0 values: \",b1)\n"
   ]
  },
  {
   "cell_type": "markdown",
   "id": "409d8501-43a7-423b-9d66-b4ed72c2464e",
   "metadata": {},
   "source": [
    "## <font color=\"red\">Plots of</font> <font color=\"Green\"><i>selling_price</i></font> <font color=\"red\">and</font> <font color=\"Green\"><i>km_driven</i></font>"
   ]
  },
  {
   "cell_type": "code",
   "execution_count": 13,
   "id": "615ca01c-9c11-44d5-9f2e-3f51b12556c7",
   "metadata": {},
   "outputs": [
    {
     "data": {
      "image/png": "[encoded data removed]",
      "text/plain": [
       "<Figure size 1440x1440 with 1 Axes>"
      ]
     },
     "metadata": {
      "needs_background": "light"
     },
     "output_type": "display_data"
    }
   ],
   "source": [
    "### Histogram for selling_price\n",
    "fig, ax = plt.subplots(figsize=(20,20))\n",
    "n, bins, patches=plt.hist(bikeDetails[\"selling_price\"], bins=20, alpha = 0.5)\n",
    "plt.ylabel(\"Price Frequency\")\n",
    "plt.xlabel(\"Selling Price\")\n",
    "plt.xticks(bins)\n",
    "plt.title(\"Selling Price distribution\")\n",
    "plt.show()\n",
    "plt.close()"
   ]
  },
  {
   "cell_type": "markdown",
   "id": "be226e37-4804-4178-bf57-cbb2775783f4",
   "metadata": {},
   "source": [
    "We see a heavily right skewed distribution almost looks like a Poisson distribution for `selling_price`."
   ]
  },
  {
   "cell_type": "code",
   "execution_count": 14,
   "id": "0753f909-4084-4086-97de-2fbed2894579",
   "metadata": {},
   "outputs": [
    {
     "data": {
      "text/plain": [
       "{'whiskers': [<matplotlib.lines.Line2D at 0x205d6fad330>,\n",
       "  <matplotlib.lines.Line2D at 0x205d6fad600>],\n",
       " 'caps': [<matplotlib.lines.Line2D at 0x205d6fad990>,\n",
       "  <matplotlib.lines.Line2D at 0x205d6fadba0>],\n",
       " 'boxes': [<matplotlib.lines.Line2D at 0x205d6fad060>],\n",
       " 'medians': [<matplotlib.lines.Line2D at 0x205d6fade70>],\n",
       " 'fliers': [<matplotlib.lines.Line2D at 0x205d6fae140>],\n",
       " 'means': []}"
      ]
     },
     "execution_count": 14,
     "metadata": {},
     "output_type": "execute_result"
    },
    {
     "data": {
      "image/png": "[encoded data removed]",
      "text/plain": [
       "<Figure size 432x288 with 1 Axes>"
      ]
     },
     "metadata": {
      "needs_background": "light"
     },
     "output_type": "display_data"
    }
   ],
   "source": [
    "plt.boxplot(bikeDetails.selling_price)"
   ]
  },
  {
   "cell_type": "markdown",
   "id": "604f5047-259d-4477-9cc4-73aaffbba545",
   "metadata": {},
   "source": [
    "We see that our graph above accounts for extreme and potential outliers in our data. This will make it harder for our model to predict the selling price of a bike since our y variable is so skewed due to so many potential outliers."
   ]
  },
  {
   "cell_type": "code",
   "execution_count": 15,
   "id": "6303e4eb-5b45-4ddb-9953-7dc0d7ede23b",
   "metadata": {},
   "outputs": [
    {
     "data": {
      "image/png": "[encoded data removed]",
      "text/plain": [
       "<Figure size 1440x1440 with 1 Axes>"
      ]
     },
     "metadata": {
      "needs_background": "light"
     },
     "output_type": "display_data"
    }
   ],
   "source": [
    "### Histogram for kw_driven\n",
    "fig, ax = plt.subplots(figsize=(20,20))\n",
    "n, bins, patches=plt.hist(bikeDetails[\"km_driven\"], bins=20, alpha = 0.5)\n",
    "plt.ylabel(\"KW Frequency\")\n",
    "plt.xlabel(\"KW Driven\")\n",
    "plt.xticks(bins)\n",
    "plt.title(\"KW Driven distribution\")\n",
    "plt.show()\n",
    "plt.close()"
   ]
  },
  {
   "cell_type": "markdown",
   "id": "78f03798-49f1-4cec-b33e-84a504c33585",
   "metadata": {},
   "source": [
    "Similar to selling price we see a heavily right skewed histogram for `km_driven` meaning we have some extreme values that could be potential outliers. Normally we would want to account for these before building our model."
   ]
  },
  {
   "cell_type": "code",
   "execution_count": 16,
   "id": "2dc25c0f-3a31-4d75-b30e-a76cb77d9055",
   "metadata": {},
   "outputs": [
    {
     "data": {
      "text/plain": [
       "{'whiskers': [<matplotlib.lines.Line2D at 0x205d6293010>,\n",
       "  <matplotlib.lines.Line2D at 0x205d6293310>],\n",
       " 'caps': [<matplotlib.lines.Line2D at 0x205d62935e0>,\n",
       "  <matplotlib.lines.Line2D at 0x205d62938b0>],\n",
       " 'boxes': [<matplotlib.lines.Line2D at 0x205d6292d40>],\n",
       " 'medians': [<matplotlib.lines.Line2D at 0x205d6293b80>],\n",
       " 'fliers': [<matplotlib.lines.Line2D at 0x205d6293e50>],\n",
       " 'means': []}"
      ]
     },
     "execution_count": 16,
     "metadata": {},
     "output_type": "execute_result"
    },
    {
     "data": {
      "image/png": "[encoded data removed]",
      "text/plain": [
       "<Figure size 432x288 with 1 Axes>"
      ]
     },
     "metadata": {
      "needs_background": "light"
     },
     "output_type": "display_data"
    }
   ],
   "source": [
    "### boxplot of km_driven\n",
    "plt.boxplot(bikeDetails.km_driven)"
   ]
  },
  {
   "cell_type": "markdown",
   "id": "39f56cfd-8c7e-4010-9db5-eb53ac0ed85d",
   "metadata": {},
   "source": [
    "We see a lot of outliers in our `Km_driven` variable meaning that it will likely be a sub-par variable in our predictive function."
   ]
  },
  {
   "cell_type": "code",
   "execution_count": 17,
   "id": "5211ac13-f41d-4a0b-a0c9-5f47c9b86864",
   "metadata": {},
   "outputs": [
    {
     "data": {
      "image/png": "[encoded data removed]",
      "text/plain": [
       "<Figure size 432x432 with 1 Axes>"
      ]
     },
     "metadata": {
      "needs_background": "light"
     },
     "output_type": "display_data"
    }
   ],
   "source": [
    "# Kernel density for selling_price #\n",
    "fig, ax = plt.subplots(figsize=(6,6))\n",
    "bikeDetails[\"selling_price\"].plot.density(bw_method = 0.5, label = \"BW = 0.5\", ax=ax)\n",
    "plt.ylabel(\"Density\")\n",
    "plt.xlabel(\"Selling Price\")\n",
    "plt.title(\"Selling Price Density\")\n",
    "plt.legend()\n",
    "plt.show()\n",
    "plt.close()"
   ]
  },
  {
   "cell_type": "code",
   "execution_count": 18,
   "id": "d2ef52c1-49e3-4b87-aecd-bc4fc5904419",
   "metadata": {},
   "outputs": [
    {
     "data": {
      "image/png": "[encoded data removed]",
      "text/plain": [
       "<Figure size 432x432 with 1 Axes>"
      ]
     },
     "metadata": {
      "needs_background": "light"
     },
     "output_type": "display_data"
    }
   ],
   "source": [
    "# Kernel density for kw_driven #\n",
    "fig, ax = plt.subplots(figsize=(6,6))\n",
    "bikeDetails[\"km_driven\"].plot.density(bw_method = 0.5, label = \"BW = 0.5\", ax=ax)\n",
    "plt.ylabel(\"Density\")\n",
    "plt.xlabel(\"KM Driven\")\n",
    "plt.title(\"KM Driven Density\")\n",
    "plt.legend()\n",
    "plt.show()\n",
    "plt.close()"
   ]
  },
  {
   "cell_type": "code",
   "execution_count": 19,
   "id": "5a460bf8-96a4-4426-83da-c90f3d7ddf06",
   "metadata": {},
   "outputs": [
    {
     "data": {
      "image/png": "[encoded data removed]",
      "text/plain": [
       "<Figure size 432x432 with 1 Axes>"
      ]
     },
     "metadata": {
      "needs_background": "light"
     },
     "output_type": "display_data"
    }
   ],
   "source": [
    "# Selling_price vs KM_Driven Scatterplot #\n",
    "fig, ax = plt.subplots(figsize=(6,6))\n",
    "bikeDetails.plot.scatter (x= \"selling_price\", y=\"km_driven\", cmap = \"plasma\", ax=ax)\n",
    "plt.xlabel(\"Selling Price\")\n",
    "plt.ylabel(\"KM Driven\")\n",
    "plt.title(\"Selling Price vs KM Driven Scatterplot\")\n",
    "plt.show()\n",
    "plt.close()"
   ]
  },
  {
   "cell_type": "markdown",
   "id": "811133e1-ba6c-4e41-b3a2-5fbbf114a8a9",
   "metadata": {},
   "source": [
    "Comparing the selling price and the kilometers driven to each other we might expect to see the $b_0$ for our model to be somewhere between 5000 and 20000 since that is where most of our selling price values are concentrated. Our slope ($b_1$) we would expect to be negative but unclear how negative. If the correlation value is an indicator in this case we would suspect a slope around negative 2."
   ]
  },
  {
   "cell_type": "markdown",
   "id": "f1e957f9-f841-42fe-8a95-f442e7091771",
   "metadata": {},
   "source": [
    "## <font color=\"red\">Contingency Table and Bar Chart of</font> <font color=\"Green\"><i>year</i></font> <font color=\"red\">and</font> <font color=\"Green\"><i>owner</i></font>"
   ]
  },
  {
   "cell_type": "code",
   "execution_count": 20,
   "id": "6b92f001-5ac7-4d13-9e4b-ef0664827b01",
   "metadata": {},
   "outputs": [
    {
     "name": "stdout",
     "output_type": "stream",
     "text": [
      "owner  1st owner  2nd owner  3rd owner  4th owner\n",
      "year                                             \n",
      "1988           1          0          0          0\n",
      "1991           1          0          0          0\n",
      "1993           0          1          0          0\n",
      "1995           0          0          1          0\n",
      "1997           2          0          0          0\n",
      "1998           2          0          1          0\n",
      "1999           0          1          0          0\n",
      "2000           4          0          1          1\n",
      "2001           1          1          0          0\n",
      "2002           1          2          0          0\n",
      "2003           1          0          0          0\n",
      "2004           4          1          0          0\n",
      "2005          11          3          0          0\n",
      "2006          17          3          0          0\n",
      "2007          24          5          0          0\n",
      "2008          21          5          2          0\n",
      "2009          21          5          1          1\n",
      "2010          50         10          0          0\n",
      "2011          50         10          1          0\n",
      "2012          56         13          1          0\n",
      "2013          66          6          1          0\n",
      "2014          75         15          0          1\n",
      "2015          83         16          1          0\n",
      "2016          95         12          0          0\n",
      "2017         122         10          1          0\n",
      "2018         128          3          0          0\n",
      "2019          85          1          0          0\n",
      "2020           3          0          0          0\n"
     ]
    }
   ],
   "source": [
    "### Contingency table\n",
    "bikeDetails.owner = bikeDetails.owner.astype(\"category\")\n",
    "bikeDetails.year = bikeDetails.year.astype(\"category\")\n",
    "bikeDetails.year [0:4]\n",
    "table = pd.crosstab(bikeDetails.year, bikeDetails.owner)\n",
    "print(table)"
   ]
  },
  {
   "cell_type": "code",
   "execution_count": 21,
   "id": "02eccf06-f9e1-4157-a7d2-e26e46fd3139",
   "metadata": {},
   "outputs": [
    {
     "data": {
      "image/png": "[encoded data removed]",
      "text/plain": [
       "<Figure size 1440x1440 with 1 Axes>"
      ]
     },
     "metadata": {
      "needs_background": "light"
     },
     "output_type": "display_data"
    }
   ],
   "source": [
    "### Bar chart\n",
    "fig, ax = plt.subplots(figsize=(20,20))\n",
    "table.plot.bar(ax=ax)\n",
    "plt.xlabel(\"Motorcycle Year\")\n",
    "plt.ylabel(\"Frequency\")\n",
    "plt.title(\"Motorcycle Year vs Owner Type Distribution\")\n",
    "plt.xticks(rotation = 0)\n",
    "plt.show()\n",
    "plt.close()"
   ]
  },
  {
   "cell_type": "markdown",
   "id": "d8338856-f1b2-4ac6-91c4-339134cd2c30",
   "metadata": {},
   "source": [
    "We see a clear trend showing that we have people who own newer bikes. This makes sense since this data was likely collected around 2019/2020 time frame meaning people are not likely to buy old bikes when they can get newer bikes (assuming newer here means better) for around the same price. The new bike market is overwhelmingly larger than second owned or third own and so on. However we could expect that old bikes can be classics a fetch a hefty price for this reason we would expect some outliers in our data."
   ]
  },
  {
   "cell_type": "markdown",
   "id": "634212fd-a26b-4522-8348-777e60ebbc94",
   "metadata": {},
   "source": [
    "# Loss Function\n",
    "\n",
    "  We start of our analysis with a Loss Function which will help us understand the quality of our methods below. This is done by measuring the Root Mean Square Error (RMSE) which indicates how \"off\" we were in our model. \n",
    "  \n",
    "  RMSE = $\\sqrt{\\frac{1}{n}\\sum_{i=1}^n{L(y_i,c)}} = \\sqrt{\\frac{1}{n}\\sum_{i=1}^n{(y_i - c)^2}}$\n",
    "  \n",
    "For this equation to work we want to find the value for c that minimizes the RMSE meaning we have the least amount of \"Loss\" in our equation."
   ]
  },
  {
   "cell_type": "markdown",
   "id": "f132387b-04ba-4117-a742-a3472f8b47da",
   "metadata": {},
   "source": [
    "# <font color=\"Red\"><b>Methods One A</b></font>\n",
    "## <font color=\"Green\">Grid Search of using just the y′s</font>"
   ]
  },
  {
   "cell_type": "code",
   "execution_count": 22,
   "id": "385b032b-e9d0-4bee-a5d6-7e34d776aabf",
   "metadata": {},
   "outputs": [],
   "source": [
    "### Find a grid of values using selling_price' mean and standard deviation\n",
    "np.random.seed(123)\n",
    "grid_c = np.random.normal(59638.151744, 56304.291973, 10000)"
   ]
  },
  {
   "cell_type": "code",
   "execution_count": 23,
   "id": "98698641-6ec5-4260-a89f-a6ea8b304461",
   "metadata": {
    "tags": []
   },
   "outputs": [
    {
     "data": {
      "text/plain": [
       "10000"
      ]
     },
     "execution_count": 23,
     "metadata": {},
     "output_type": "execute_result"
    }
   ],
   "source": [
    "### convert grid array to series\n",
    "grid_c1 = pd.Series(grid_c)\n",
    "len(grid_c1)"
   ]
  },
  {
   "cell_type": "code",
   "execution_count": 24,
   "id": "10e3742a-77d4-4953-a63d-076ee3323bc0",
   "metadata": {},
   "outputs": [],
   "source": [
    "### Create a RMSE Algorithm\n",
    "def find_best_c(y, x):\n",
    "    \"\"\"\n",
    "    Calculate RMSE from all the c and append them into a list, find the minimal RMSE and return the corresponding c value\n",
    "    \"\"\"\n",
    "    c_rmse = []\n",
    "    for i in range(0, len(x)):\n",
    "        rmse = np.sqrt(sum((y - x[i])**2)/len(y))\n",
    "        c_rmse.append(rmse)\n",
    "    min_rmse = min(c_rmse)\n",
    "    min_loc = c_rmse.index(min_rmse)\n",
    "    optimal_c = x[min_loc]\n",
    "    return print(\"The Min RMSE is =\", min_rmse,\"\\nThe min loc is =\", min_loc,\"\\nThe optimal value for c is = \", optimal_c)"
   ]
  },
  {
   "cell_type": "markdown",
   "id": "97940ea2-88bb-4ae4-9652-8b19eb6c2da2",
   "metadata": {},
   "source": [
    "We will utilize a grid of selling prices to predict the `selling_price`. We do this by creating a grid of variables that are centered around the distribution of `Selling_price` as seen in the EDA part of our code.  "
   ]
  },
  {
   "cell_type": "code",
   "execution_count": 25,
   "id": "2539b6eb-9e2d-4206-b43f-019a6f0b9fd3",
   "metadata": {
    "tags": []
   },
   "outputs": [
    {
     "name": "stdout",
     "output_type": "stream",
     "text": [
      "The Min RMSE is = 56277.752282119494 \n",
      "The min loc is = 799 \n",
      "The optimal value for c is =  59633.89927166418\n"
     ]
    }
   ],
   "source": [
    "find_best_c(bikeDetails.selling_price,grid_c1)"
   ]
  },
  {
   "cell_type": "code",
   "execution_count": 26,
   "id": "04cf5994-4706-4e64-9ca4-dc55d9ba555e",
   "metadata": {},
   "outputs": [
    {
     "name": "stdout",
     "output_type": "stream",
     "text": [
      "The price mean is =  59638.151743638075 \n",
      "While the rmse_test gives us a value of = 56277.752282119494\n",
      "The difference seems to be  4.252471973893989\n"
     ]
    }
   ],
   "source": [
    "### Verification, change the float in rmse_test equation to the third number returned by \"find_best_c\" funtion\n",
    "price_mean = bikeDetails.selling_price.mean()\n",
    "rmse_test = np.sqrt(sum((bikeDetails.selling_price -59633.89927166418)**2)/len(bikeDetails.selling_price))\n",
    "print(\"The price mean is = \", price_mean,\"\\nWhile the rmse_test gives us a value of =\", rmse_test)\n",
    "print(\"The difference seems to be \",(price_mean - 59633.89927166418))"
   ]
  },
  {
   "cell_type": "markdown",
   "id": "4d6c35ba-aab8-4ed8-869a-2292cd72661f",
   "metadata": {},
   "source": [
    "We see that our model works best when the `selling_price` is around 59K. This makes perfect sense since our `selling_price` variable is centered there. Our lowest RMSE is around 56K meaning we don't have a great model as the standard deviation of our model seems to be fairly large."
   ]
  },
  {
   "cell_type": "markdown",
   "id": "ef980607-1171-49d7-9ce1-1dc048464667",
   "metadata": {},
   "source": [
    "## <font color=\"Green\">Run the function using km_driven</font>"
   ]
  },
  {
   "cell_type": "code",
   "execution_count": 27,
   "id": "31a3ab5c-247b-4e02-aaee-8e0716b7a198",
   "metadata": {},
   "outputs": [],
   "source": [
    "### Find a grid of values using km_driven' mean and standard deviation\n",
    "np.random.seed(123)\n",
    "grid_ck = np.random.normal(34359.833176, 51623.152702, 100000)"
   ]
  },
  {
   "cell_type": "code",
   "execution_count": 28,
   "id": "89cb306b-244a-4917-8d63-864999a13ca0",
   "metadata": {
    "tags": []
   },
   "outputs": [
    {
     "data": {
      "text/plain": [
       "100000"
      ]
     },
     "execution_count": 28,
     "metadata": {},
     "output_type": "execute_result"
    }
   ],
   "source": [
    "### convert grid array to series\n",
    "grid_ck1 = pd.Series(grid_ck)\n",
    "len(grid_ck1)"
   ]
  },
  {
   "cell_type": "code",
   "execution_count": 29,
   "id": "3c00963a-0cd8-4221-a529-75829914f60e",
   "metadata": {},
   "outputs": [
    {
     "name": "stdout",
     "output_type": "stream",
     "text": [
      "The Min RMSE is = 51598.81937368206 \n",
      "The min loc is = 19348 \n",
      "The optimal value for c is =  34359.69373711624\n"
     ]
    }
   ],
   "source": [
    "find_best_c(bikeDetails.km_driven, grid_ck1)"
   ]
  },
  {
   "cell_type": "markdown",
   "id": "34650d8c-c3a6-46e0-abfb-05ed6d9fa969",
   "metadata": {},
   "source": [
    "Running our function and iterating it 100,000 times we see that the best value is our 19,348th value with a min RMSE of 51598 from an optimal value of 34,359."
   ]
  },
  {
   "cell_type": "markdown",
   "id": "111d565b-62d2-4506-8bac-13e926fca696",
   "metadata": {},
   "source": [
    "# <font color=\"Red\"><b>Methods One B</b></font>\n",
    "## <font color=\"Green\">Grid Search of using linear regression model</font>"
   ]
  },
  {
   "cell_type": "code",
   "execution_count": 30,
   "id": "77018e20-e105-4e4d-ad27-30c70aeba7ef",
   "metadata": {},
   "outputs": [],
   "source": [
    "### Create a RMSE Algorithm accounting for KM_driven \n",
    "### Return the b0 b1 pairs that has the minimal RMSE\n",
    "\n",
    "def find_best_c_with_var(y, x, coeff1, coeff2):\n",
    "    \"\"\"\n",
    "    Calculate RMSE from all the linear regression model and append them into a list, \n",
    "    find the minimal RMSE and return the corresponding b0 and b1.\n",
    "    \"\"\"\n",
    "    c_rmse = []\n",
    "    \n",
    "    for k in range(0, len(coeff1)):\n",
    "                y_hat = coeff1[k][0] + coeff2[k][0][0]*x\n",
    "                rmse = np.sqrt(sum((y - y_hat)**2)/len(y))\n",
    "                c_rmse.append(rmse)\n",
    "                \n",
    "    min_rmse = min(c_rmse)\n",
    "    min_loc = c_rmse.index(min_rmse)\n",
    "    optimal_b0 = coeff1[min_loc][0]\n",
    "    optimal_b1 = coeff2[min_loc][0][0]\n",
    "    \n",
    "    \n",
    "### Use best combination of b0 and b1 to predict the selling_price for km_driven of 10000, 25000, 35000 ###\n",
    "\n",
    "\n",
    "    selling1 = optimal_b0 + optimal_b1*10000\n",
    "    selling2 = optimal_b0 + optimal_b1*25000\n",
    "    selling3 = optimal_b0 + optimal_b1*35000\n",
    "    return print(\"The Min RMSE is =\", min_rmse,\"\\nThe optimal b0 is\", \n",
    "                 optimal_b0, \"\\nThe optimal b1 is\", optimal_b1,\\\n",
    "                \"\\nThe predicted selling price with km_driven = 10000 is\", selling1,\\\n",
    "                \"\\nThe predicted selling price with km_driven = 25000 is\", selling2,\\\n",
    "                \"\\nThe predicted selling price with km_driven = 35000 is\", selling3)"
   ]
  },
  {
   "cell_type": "markdown",
   "id": "589ab3d5-77b1-417c-afdd-f1fdc4f3dc34",
   "metadata": {},
   "source": [
    "We generated 100 pairs of b0 and b1 in EDA by randomly creating 100 subsets with 100 sample size from the bikeDetail data frame and building 100 regression models."
   ]
  },
  {
   "cell_type": "code",
   "execution_count": 31,
   "id": "513ae3c6-182e-499f-ad4f-4e1601e6a26c",
   "metadata": {},
   "outputs": [
    {
     "name": "stdout",
     "output_type": "stream",
     "text": [
      "The Min RMSE is = 55070.781098019776 \n",
      "The optimal b0 is 70933.50870979349 \n",
      "The optimal b1 is -0.28227289019113955 \n",
      "The predicted selling price with km_driven = 10000 is 68110.77980788209 \n",
      "The predicted selling price with km_driven = 25000 is 63876.686455015 \n",
      "The predicted selling price with km_driven = 35000 is 61053.9575531036\n"
     ]
    }
   ],
   "source": [
    "find_best_c_with_var (bikeDetails.selling_price, bikeDetails.km_driven, b0, b1)"
   ]
  },
  {
   "cell_type": "markdown",
   "id": "36187d50-ffb5-4131-b0d0-b18b8b90a24d",
   "metadata": {},
   "source": [
    "We see that our model works best when b0 = 67901 and b1 = -0.2264 with the RMSE around 55K. It is lower than the RMSE from using only selling_price to generate grid of c, the linear regression model predicts c better."
   ]
  },
  {
   "cell_type": "markdown",
   "id": "c87b4f5c-0d8a-4ae6-b7f8-4b224cb2887a",
   "metadata": {},
   "source": [
    "# <font color=\"Red\"><b>Methods Two A</b></font>\n",
    "## <font color=\"Green\">Gradient Descent of using just the y′s</font>"
   ]
  },
  {
   "cell_type": "code",
   "execution_count": 32,
   "id": "350a1914-a27a-45f8-819e-e4e36b79aa9a",
   "metadata": {},
   "outputs": [],
   "source": [
    "### Creat a Gradient Descent Algorithm\n",
    "def find_best_c_g(var, step_size, starting_point, rounds):\n",
    "    \"\"\"\n",
    "    Pick initial c and initial delta, create new c value based on the slop and step size, \n",
    "    loop through untill either the absolute difference between new c and cur c are smaller than 0.08 or reach the maximum iteration \n",
    "    \"\"\"\n",
    "    cur_c = starting_point\n",
    "    cur_c_rmse = np.sqrt(sum((var - cur_c)**2)/len(var))\n",
    "    delta_rmse = np.sqrt(sum((var - (cur_c + 0.005))**2)/len(var))\n",
    "    slop = (delta_rmse - cur_c_rmse)/0.005\n",
    "    c = []\n",
    "    for i in range(0, rounds):\n",
    "        new_c = cur_c - slop*step_size\n",
    "        c.append(new_c)\n",
    "        c_length = len(c) ###see how many iteration\n",
    "        if abs(new_c - cur_c) >= 0.08:\n",
    "            new_c_rmse = np.sqrt(sum((var - new_c)**2)/len(var))\n",
    "            cur_c_rmse = np.sqrt(sum((var - cur_c)**2)/len(var))\n",
    "            delta = new_c - cur_c\n",
    "            slop = (new_c_rmse - cur_c_rmse)/delta\n",
    "            cur_c = new_c\n",
    "        else:\n",
    "            cur_c = new_c\n",
    "            break\n",
    "    return print (\"\\nThe optimal value for c is = \", cur_c, \"\\nIteration Times:\", c_length)"
   ]
  },
  {
   "cell_type": "code",
   "execution_count": 33,
   "id": "5974218e-c7fe-4f0c-9a9a-53649da8a856",
   "metadata": {},
   "outputs": [
    {
     "name": "stdout",
     "output_type": "stream",
     "text": [
      "\n",
      "The optimal value for c is =  50516.353900290196 \n",
      "Iteration Times: 6283\n"
     ]
    }
   ],
   "source": [
    "find_best_c_g(bikeDetails.selling_price, 0.5, 50000, 100000)"
   ]
  },
  {
   "cell_type": "markdown",
   "id": "d5ad6d0c-e15e-442e-b9c3-288f691d01aa",
   "metadata": {},
   "source": [
    "## <font color=\"Green\">Run the function using km_driven</font>"
   ]
  },
  {
   "cell_type": "code",
   "execution_count": 34,
   "id": "0a7fff7f-7794-4102-9c01-73062fc08d2d",
   "metadata": {},
   "outputs": [
    {
     "name": "stdout",
     "output_type": "stream",
     "text": [
      "\n",
      "The optimal value for c is =  25996.43735207931 \n",
      "Iteration Times: 11786\n"
     ]
    }
   ],
   "source": [
    "find_best_c_g(bikeDetails.km_driven, 0.5, 25000, 100000)"
   ]
  },
  {
   "cell_type": "markdown",
   "id": "531a40cf-2c80-4c56-9436-62bc37bf6c4a",
   "metadata": {},
   "source": [
    "# <font color=\"Red\"><b>Methods Two B</b></font>\n",
    "## <font color=\"Green\">Gradient Descent of using linear regression model</font>"
   ]
  },
  {
   "cell_type": "code",
   "execution_count": 35,
   "id": "74ea0063-07ea-45a2-be31-5ca38ce62ce0",
   "metadata": {},
   "outputs": [],
   "source": [
    "### Creat a Gradient Descent Algorithm accounting for KM_driven\n",
    "def find_best_c_g_var(var1, var2, step_size1, step_size2, starting_point1, starting_point2, rounds):\n",
    "    \"\"\"\n",
    "    Pick initial b0, b1 and their initial delta, create new b0 and b1 value based on the slop and step size, \n",
    "    loop through untill either the euclidean distance is smaller than 50 or reach the maximum iteration \n",
    "    \"\"\"\n",
    "    cur_b0 = starting_point1\n",
    "    cur_b1 = starting_point2\n",
    "    \n",
    "    y_hat = cur_b0 + cur_b1*var1\n",
    "    cur_b_rmse = np.sqrt(sum((var2 - y_hat)**2)/len(var2))\n",
    "    \n",
    "    delta_b0_hat = (cur_b0+0.005) + cur_b1*var1\n",
    "    delta_b0_rmse = np.sqrt(sum((var2 - delta_b0_hat)**2)/len(var2))\n",
    "    slop_b0 = (delta_b0_rmse - cur_b_rmse)/0.005\n",
    "    \n",
    "    delta_b1_hat = cur_b0 + (cur_b1+0.005)*var1\n",
    "    delta_b1_rmse = np.sqrt(sum((var2 - delta_b1_hat)**2)/len(var2))\n",
    "    slop_b1 = (delta_b1_rmse - cur_b_rmse)/0.005\n",
    "    \n",
    "    b0_list = []\n",
    "    b1_list = []\n",
    "    distance = []\n",
    "    for i in range(0, rounds):\n",
    "        new_b0 = cur_b0 - slop_b0*step_size1\n",
    "        new_b1 = cur_b1 - slop_b1*step_size2\n",
    "        \n",
    "        b0_list.append(new_b0)\n",
    "        b1_list.append(new_b1)\n",
    "        b_length = len(b0_list) ###see how many iteration\n",
    "        dis = np.sqrt((cur_b0 - new_b0)**2 + (cur_b1 - new_b1)**2)\n",
    "        distance.append(dis)\n",
    "        if dis >= 0.04072:\n",
    "            y_hat = cur_b0 + cur_b1*var1\n",
    "            cur_b_rmse = np.sqrt(sum((var2 - y_hat)**2)/len(var2))\n",
    "            \n",
    "            delta_b0_hat = new_b0 + cur_b1*var1\n",
    "            delta_b0_rmse = np.sqrt(sum((var2 - delta_b0_hat)**2)/len(var2))\n",
    "            delta_b0 = new_b0 - cur_b0\n",
    "            slop_b0 = (delta_b0_rmse - cur_b_rmse)/delta_b0\n",
    "            \n",
    "            delta_b1_hat = cur_b0 + new_b1*var1\n",
    "            delta_b1_rmse = np.sqrt(sum((var2 - delta_b1_hat)**2)/len(var2))\n",
    "            delta_b1 = new_b1 - cur_b1\n",
    "            slop_b1 = (delta_b1_rmse - cur_b_rmse)/delta_b1\n",
    "            \n",
    "            cur_b0 = new_b0\n",
    "            cur_b1 = new_b1\n",
    "            predict1 = cur_b0 + cur_b1*10000\n",
    "            predict2 = cur_b0 + cur_b1*25000\n",
    "            predict3 = cur_b0 + cur_b1*35000         \n",
    "        else:\n",
    "            cur_b0 = new_b0\n",
    "            cur_b1 = new_b1\n",
    "            predict1 = cur_b0 + cur_b1*10000\n",
    "            predict2 = cur_b0 + cur_b1*25000\n",
    "            predict3 = cur_b0 + cur_b1*35000\n",
    "            break\n",
    "            \n",
    "    return print (\"\\nThe optimal value for b0 is = \", cur_b0, \"\\nThe optimal value for b1 is = \", cur_b1,\n",
    "                  \"\\nIteration Times:\", b_length, \n",
    "                  \"\\nThe predicted selling price with km_driven = 10000 is\", predict1,\n",
    "                  \"\\nThe predicted selling price with km_driven = 25000 is\", predict2, \n",
    "                  \"\\nThe predicted selling price with km_driven = 35000 is\", predict3)"
   ]
  },
  {
   "cell_type": "code",
   "execution_count": 36,
   "id": "a44499ab-2e90-4a3e-8eff-5e1ffe098dfc",
   "metadata": {},
   "outputs": [
    {
     "name": "stdout",
     "output_type": "stream",
     "text": [
      "\n",
      "The optimal value for b0 is =  64382.285920590126 \n",
      "The optimal value for b1 is =  -0.20331385438546776 \n",
      "Iteration Times: 78043 \n",
      "The predicted selling price with km_driven = 10000 is 62349.14737673545 \n",
      "The predicted selling price with km_driven = 25000 is 59299.43956095343 \n",
      "The predicted selling price with km_driven = 35000 is 57266.301017098755\n"
     ]
    }
   ],
   "source": [
    "find_best_c_g_var(bikeDetails.km_driven, bikeDetails.selling_price, 1, 0.000005, 59000, 0, 100000)"
   ]
  },
  {
   "cell_type": "markdown",
   "id": "3e116f57-cd5c-4149-ac25-8b61dfbcd23b",
   "metadata": {},
   "source": [
    "We started with a starting point of 60,000 which only iterated 3 times meaning that we were really close to our desired result. We since changed it to 59,000 to show that the code works as intended jumping from one value to another until it figures our the best starting point. This took 78K iterations but eventually we found the \"best\" combination of $b_0$ and $b_1$."
   ]
  },
  {
   "cell_type": "markdown",
   "id": "c8660943-8c51-4e78-adee-445d6a175a3e",
   "metadata": {},
   "source": [
    "## Testing our results with a SLR pulled from stack overflow"
   ]
  },
  {
   "cell_type": "code",
   "execution_count": 37,
   "id": "88024afc-5aa6-4683-b477-f9dce78e4a85",
   "metadata": {},
   "outputs": [],
   "source": [
    "from sklearn.linear_model import LinearRegression"
   ]
  },
  {
   "cell_type": "code",
   "execution_count": 38,
   "id": "3a286734-efc2-4824-bb15-1a2d35f90411",
   "metadata": {},
   "outputs": [],
   "source": [
    "# Testing with a linear regression\n",
    "x = bikeDetails[[\"km_driven\"]]\n",
    "y = bikeDetails[[\"selling_price\"]]"
   ]
  },
  {
   "cell_type": "code",
   "execution_count": 39,
   "id": "e68928e0-c885-4dbf-b46d-a9fbd027a7f4",
   "metadata": {},
   "outputs": [
    {
     "data": {
      "text/plain": [
       "LinearRegression()"
      ]
     },
     "execution_count": 39,
     "metadata": {},
     "output_type": "execute_result"
    }
   ],
   "source": [
    "regressor = LinearRegression()\n",
    "regressor.fit(x, y)"
   ]
  },
  {
   "cell_type": "code",
   "execution_count": 40,
   "id": "f2f6fec3-e79f-46af-ac79-bd8f86573c75",
   "metadata": {},
   "outputs": [
    {
     "data": {
      "text/plain": [
       "array([[67536.78615714],\n",
       "       [66305.88443014],\n",
       "       [64831.12481383],\n",
       "       ...,\n",
       "       [59489.47580988],\n",
       "       [55309.05485026],\n",
       "       [46197.36287757]])"
      ]
     },
     "execution_count": 40,
     "metadata": {},
     "output_type": "execute_result"
    }
   ],
   "source": [
    "y_pred = regressor.predict(x)\n",
    "y_pred"
   ]
  },
  {
   "cell_type": "code",
   "execution_count": 41,
   "id": "88829993-5e97-4449-915d-5df1c1217c2a",
   "metadata": {},
   "outputs": [
    {
     "data": {
      "image/png": "[encoded data removed]",
      "text/plain": [
       "<Figure size 432x288 with 1 Axes>"
      ]
     },
     "metadata": {
      "needs_background": "light"
     },
     "output_type": "display_data"
    }
   ],
   "source": [
    "plt.scatter(bikeDetails.km_driven, bikeDetails.selling_price, color = 'red')\n",
    "plt.plot(bikeDetails.km_driven, y_pred, c = 'blue')\n",
    "plt.title('selling price vs Km Driven')\n",
    "plt.xlabel('selling price')\n",
    "plt.ylabel('Km Driven')\n",
    "plt.show()"
   ]
  },
  {
   "cell_type": "markdown",
   "id": "f5675ef1-15d6-4dc2-b16b-5be3e87b11c7",
   "metadata": {},
   "source": [
    "We see that our model isn't too far off from the linear regression both are equally not as good at predicting the price of a bike based on `km_driven` since we have extreme values on both of our variables."
   ]
  },
  {
   "cell_type": "markdown",
   "id": "6292b1f2-9c36-4b50-a797-b76483bab9b7",
   "metadata": {},
   "source": [
    "### Conclusion"
   ]
  },
  {
   "cell_type": "markdown",
   "id": "89dcd485-a0d6-4910-a9cf-19882286443e",
   "metadata": {},
   "source": [
    "In Conclusion we see that our grid search is the best model so far with the lowest RMSE value. We also see that it comes closest to a simple linear regression that we ran at the end to measure our results. We that our results aren't too far off from what we see in the SLR function above since our best $b_0$ seems to be around 66,000 `km_driven` which seems to align with the SLR results and has a best $b_1$ result of about -.24 which seems to align with our SLR.\n",
    "\n",
    "\n",
    "The Gradient Descent seems to not be as good of an estimator based on the higher RMSE and the differing $b_0, b_1$  values of 64,000 `km_driven` and -.20 respectively. \n",
    "\n",
    "Although in reality we would likely use the SLR function to analyze our data in the this exercise helps us understand the under the hood working of a SLR. This will help us understand our results better in the future. "
   ]
  }
 ],
 "metadata": {
  "kernelspec": {
   "display_name": "Python 3 (ipykernel)",
   "language": "python",
   "name": "python3"
  },
  "language_info": {
   "codemirror_mode": {
    "name": "ipython",
    "version": 3
   },
   "file_extension": ".py",
   "mimetype": "text/x-python",
   "name": "python",
   "nbconvert_exporter": "python",
   "pygments_lexer": "ipython3",
   "version": "3.10.1"
  }
 },
 "nbformat": 4,
 "nbformat_minor": 5
}
