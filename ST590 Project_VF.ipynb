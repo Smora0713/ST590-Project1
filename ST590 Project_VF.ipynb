{
 "cells": [
  {
   "cell_type": "markdown",
   "id": "b780b92f-062c-406a-85a0-c55c67c664d0",
   "metadata": {},
   "source": [
    "# <font color=\"Yellow\"><b>ST590 Project 1</b></font>\n",
    "## <font color=\"Green\">Sergio Mora & Vivi Feathers</font>"
   ]
  },
  {
   "cell_type": "markdown",
   "id": "2a207881-3f5e-4671-b351-de4625677fb6",
   "metadata": {},
   "source": [
    "# <font color=\"red\"><b>Introduction</b></font>\n",
    "<font color=\"green\">Purples:</font> Predict a value of <i>selling_price</i> for a new motorcycle.\n",
    "\n",
    "<font color=\"green\">Dataset name:</font> <b>BikeDetails</b> <br>\n",
    "This dataset contains information about used motorcycles, including their features and selling prices.\n",
    "\n",
    "<font color=\"green\">Variables used:</font> <i>selling_price</i>, <i>km_driven</i>\n",
    "<style>\n",
    "        .tab1 {\n",
    "            tab-size: 2;\n",
    "        }\n",
    "    </style>\n",
    "<font color=\"green\">Methods:</font><br>\n",
    "<pre class=\"tab1\">1. Grid search</pre>\n",
    "<pre class=\"tab1\">2. Gradient descent</pre>\n",
    "        \n",
    "<font color=\"green\">Algorithms:</font><br>\n",
    "<pre class=\"tab1\">1. Using only <i>selling_price</i> to predict c</pre>\n",
    "<pre class=\"tab1\">2. Using simple linear regression with <i>selling_price</i> and <i>km_driven</i> to predict c</pre>\n",
    " \n",
    "<font color=\"green\">Modules:</font><br>\n",
    "<pre class=\"tab1\">1. pandas</pre>\n",
    "<pre class=\"tab1\">2. numpy</pre>\n",
    "<pre class=\"tab1\">3. matplotlib.pyplot</pre>\n",
    "<pre class=\"tab1\">4. scipy.stats</pre>\n",
    "\n",
    " ## <font color=\"red\">Read in dataset and display the first several rows</font>"
   ]
  },
  {
   "cell_type": "code",
   "execution_count": 1,
   "id": "225f7f53-5eb2-49af-b172-cd77c133ba9c",
   "metadata": {},
   "outputs": [],
   "source": [
    "### Import modules\n",
    "import pandas as pd\n",
    "import numpy  as np\n",
    "import matplotlib.pyplot as plt\n",
    "import scipy.stats as stat"
   ]
  },
  {
   "cell_type": "code",
   "execution_count": 2,
   "id": "887b92ef-78ef-43fb-8bea-d8f074b56b3f",
   "metadata": {},
   "outputs": [],
   "source": [
    "### Reading the data\n",
    "bikeDetails = pd.read_csv(\"bikeDetails.csv\")"
   ]
  },
  {
   "cell_type": "code",
   "execution_count": 3,
   "id": "a1ea8119-07ab-4ad1-ba16-22cb3b0244f7",
   "metadata": {},
   "outputs": [
    {
     "name": "stdout",
     "output_type": "stream",
     "text": [
      "(1061, 7)\n"
     ]
    },
    {
     "data": {
      "text/html": [
       "<div>\n",
       "<style scoped>\n",
       "    .dataframe tbody tr th:only-of-type {\n",
       "        vertical-align: middle;\n",
       "    }\n",
       "\n",
       "    .dataframe tbody tr th {\n",
       "        vertical-align: top;\n",
       "    }\n",
       "\n",
       "    .dataframe thead th {\n",
       "        text-align: right;\n",
       "    }\n",
       "</style>\n",
       "<table border=\"1\" class=\"dataframe\">\n",
       "  <thead>\n",
       "    <tr style=\"text-align: right;\">\n",
       "      <th></th>\n",
       "      <th>name</th>\n",
       "      <th>selling_price</th>\n",
       "      <th>year</th>\n",
       "      <th>seller_type</th>\n",
       "      <th>owner</th>\n",
       "      <th>km_driven</th>\n",
       "      <th>ex_showroom_price</th>\n",
       "    </tr>\n",
       "  </thead>\n",
       "  <tbody>\n",
       "    <tr>\n",
       "      <th>0</th>\n",
       "      <td>Royal Enfield Classic 350</td>\n",
       "      <td>175000</td>\n",
       "      <td>2019</td>\n",
       "      <td>Individual</td>\n",
       "      <td>1st owner</td>\n",
       "      <td>350</td>\n",
       "      <td>NaN</td>\n",
       "    </tr>\n",
       "    <tr>\n",
       "      <th>1</th>\n",
       "      <td>Honda Dio</td>\n",
       "      <td>45000</td>\n",
       "      <td>2017</td>\n",
       "      <td>Individual</td>\n",
       "      <td>1st owner</td>\n",
       "      <td>5650</td>\n",
       "      <td>NaN</td>\n",
       "    </tr>\n",
       "    <tr>\n",
       "      <th>2</th>\n",
       "      <td>Royal Enfield Classic Gunmetal Grey</td>\n",
       "      <td>150000</td>\n",
       "      <td>2018</td>\n",
       "      <td>Individual</td>\n",
       "      <td>1st owner</td>\n",
       "      <td>12000</td>\n",
       "      <td>148114.0</td>\n",
       "    </tr>\n",
       "    <tr>\n",
       "      <th>3</th>\n",
       "      <td>Yamaha Fazer FI V 2.0 [2016-2018]</td>\n",
       "      <td>65000</td>\n",
       "      <td>2015</td>\n",
       "      <td>Individual</td>\n",
       "      <td>1st owner</td>\n",
       "      <td>23000</td>\n",
       "      <td>89643.0</td>\n",
       "    </tr>\n",
       "    <tr>\n",
       "      <th>4</th>\n",
       "      <td>Yamaha SZ [2013-2014]</td>\n",
       "      <td>20000</td>\n",
       "      <td>2011</td>\n",
       "      <td>Individual</td>\n",
       "      <td>2nd owner</td>\n",
       "      <td>21000</td>\n",
       "      <td>NaN</td>\n",
       "    </tr>\n",
       "  </tbody>\n",
       "</table>\n",
       "</div>"
      ],
      "text/plain": [
       "                                  name  selling_price  year seller_type  \\\n",
       "0            Royal Enfield Classic 350         175000  2019  Individual   \n",
       "1                            Honda Dio          45000  2017  Individual   \n",
       "2  Royal Enfield Classic Gunmetal Grey         150000  2018  Individual   \n",
       "3    Yamaha Fazer FI V 2.0 [2016-2018]          65000  2015  Individual   \n",
       "4                Yamaha SZ [2013-2014]          20000  2011  Individual   \n",
       "\n",
       "       owner  km_driven  ex_showroom_price  \n",
       "0  1st owner        350                NaN  \n",
       "1  1st owner       5650                NaN  \n",
       "2  1st owner      12000           148114.0  \n",
       "3  1st owner      23000            89643.0  \n",
       "4  2nd owner      21000                NaN  "
      ]
     },
     "execution_count": 3,
     "metadata": {},
     "output_type": "execute_result"
    }
   ],
   "source": [
    "### Data structure and first several rows\n",
    "a=bikeDetails.shape\n",
    "print(a)\n",
    "bikeDetails.head()"
   ]
  },
  {
   "cell_type": "markdown",
   "id": "95c0fee2-5991-4ec7-ab86-4f317a686483",
   "metadata": {},
   "source": [
    "# <font color=\"red\"><b>EDA</b></font>\n",
    "## <font color=\"Green\"><i>selling_price</i></font>"
   ]
  },
  {
   "cell_type": "code",
   "execution_count": 4,
   "id": "f7813209-8e9c-4ec5-bcf1-c2a5eb6923a3",
   "metadata": {},
   "outputs": [
    {
     "data": {
      "text/plain": [
       "count      1061.000000\n",
       "mean      59638.151744\n",
       "std       56304.291973\n",
       "min        5000.000000\n",
       "25%       28000.000000\n",
       "50%       45000.000000\n",
       "75%       70000.000000\n",
       "max      760000.000000\n",
       "Name: selling_price, dtype: float64"
      ]
     },
     "execution_count": 4,
     "metadata": {},
     "output_type": "execute_result"
    }
   ],
   "source": [
    "### General information\n",
    "bikeDetails[\"selling_price\"].describe(percentiles=[0.25, 0.75])"
   ]
  },
  {
   "cell_type": "code",
   "execution_count": 5,
   "id": "4160ffc7-e5a0-4cfe-9e8b-b8edf433eb5d",
   "metadata": {},
   "outputs": [
    {
     "name": "stdout",
     "output_type": "stream",
     "text": [
      "2.972154042832937e-42\n",
      "The meidian of selling_price is 45000.0\n",
      "The first quartile of selling_price is 0.25    28000.0\n",
      "Name: selling_price, dtype: float64\n",
      "The third quartile of selling_price is 0.75    70000.0\n",
      "Name: selling_price, dtype: float64\n",
      "The IQR of selling_price is 42000.0\n"
     ]
    }
   ],
   "source": [
    "# Check normality #\n",
    "import scipy.stats as stat\n",
    "stat, p = stat.shapiro(bikeDetails[\"selling_price\"])\n",
    "print(p)\n",
    "# not normally distributed, use median and IQR #\n",
    "median_price = bikeDetails[\"selling_price\"].median()\n",
    "q1_price = bikeDetails[\"selling_price\"].quantile(q = [0.25])\n",
    "q3_price = bikeDetails[\"selling_price\"].quantile(q = [0.75])\n",
    "IQR_price = q3_price[0.75] - q1_price[0.25]\n",
    "print(\"The meidian of selling_price is\", median_price)\n",
    "print(\"The first quartile of selling_price is\", q1_price)\n",
    "print(\"The third quartile of selling_price is\", q3_price)\n",
    "print(\"The IQR of selling_price is\", IQR_price)"
   ]
  },
  {
   "cell_type": "code",
   "execution_count": 34,
   "id": "53db88fb-8942-4a4b-8603-a7abe1a106de",
   "metadata": {},
   "outputs": [
    {
     "name": "stdout",
     "output_type": "stream",
     "text": [
      "             selling_price\n",
      "seller_type               \n",
      "Dealer             44000.0\n",
      "Individual         45000.0\n",
      "                  selling_price\n",
      "seller_type                    \n",
      "Dealer      0.25        28250.0\n",
      "Individual  0.25        28000.0\n",
      "                  selling_price\n",
      "seller_type                    \n",
      "Dealer      0.25        28250.0\n",
      "Individual  0.25        28000.0\n"
     ]
    }
   ],
   "source": [
    "### Median, Q1 and Q3 of selling_price in different seller_type groups\n",
    "bikeDetails.seller_type = bikeDetails.seller_type.astype(\"category\")\n",
    "bike_sub = bikeDetails.loc[:,[\"seller_type\",\"selling_price\"]]\n",
    "price_group_median=bike_sub.groupby(\"seller_type\").median()\n",
    "print(price_group_median)\n",
    "price_group_q1=bike_sub.groupby(\"seller_type\").quantile(q = [0.25])\n",
    "print(price_group_q1)\n",
    "price_group_q3=bike_sub.groupby(\"seller_type\").quantile(q = [0.25])\n",
    "print(price_group_q3)"
   ]
  },
  {
   "cell_type": "markdown",
   "id": "a3552ae5-6589-4834-8dd9-a588272f6838",
   "metadata": {},
   "source": [
    "## <font color=\"Green\"><i>km_driven</i></font>"
   ]
  },
  {
   "cell_type": "code",
   "execution_count": 7,
   "id": "631a03c7-68ac-44e3-b3e9-fd9cc587ddc9",
   "metadata": {},
   "outputs": [
    {
     "data": {
      "text/plain": [
       "count      1061.000000\n",
       "mean      34359.833176\n",
       "std       51623.152702\n",
       "min         350.000000\n",
       "25%       13500.000000\n",
       "50%       25000.000000\n",
       "75%       43000.000000\n",
       "max      880000.000000\n",
       "Name: km_driven, dtype: float64"
      ]
     },
     "execution_count": 7,
     "metadata": {},
     "output_type": "execute_result"
    }
   ],
   "source": [
    "### General information\n",
    "bikeDetails[\"km_driven\"].describe(percentiles=[0.25, 0.75])"
   ]
  },
  {
   "cell_type": "code",
   "execution_count": 10,
   "id": "555eabfa-0ebd-43e4-a60c-23c23a084448",
   "metadata": {},
   "outputs": [
    {
     "name": "stdout",
     "output_type": "stream",
     "text": [
      "0.0\n",
      "The meidian of km_driven is 25000.0\n",
      "The first quartile of km_driven is 0.25    13500.0\n",
      "Name: km_driven, dtype: float64\n",
      "The third quartile of km_driven is 0.75    43000.0\n",
      "Name: km_driven, dtype: float64\n",
      "The IQR of km_driven is 29500.0\n"
     ]
    }
   ],
   "source": [
    "# Check normality #\n",
    "import scipy.stats as stat\n",
    "stat, p = stat.shapiro(bikeDetails[\"km_driven\"])\n",
    "print(p)\n",
    "# not normally distributed, use median and IQR #\n",
    "median_km = bikeDetails[\"km_driven\"].median()\n",
    "q1_km = bikeDetails[\"km_driven\"].quantile(q = [0.25])\n",
    "q3_km = bikeDetails[\"km_driven\"].quantile(q = [0.75])\n",
    "IQR_km = q3_km[0.75] - q1_km[0.25]\n",
    "print(\"The meidian of km_driven is\", median_km)\n",
    "print(\"The first quartile of km_driven is\", q1_km)\n",
    "print(\"The third quartile of km_driven is\", q3_km)\n",
    "print(\"The IQR of km_driven is\", IQR_km)"
   ]
  },
  {
   "cell_type": "markdown",
   "id": "6cdd89c4-8e4d-49ab-aa9e-b7c24ec3fe97",
   "metadata": {},
   "source": [
    "## <font color=\"red\">Correlation between</font> <font color=\"Green\"><i>selling_price</i></font> <font color=\"red\">and</font> <font color=\"Green\"><i>km_driven</i></font>"
   ]
  },
  {
   "cell_type": "code",
   "execution_count": 15,
   "id": "c9c4cd0f-96d1-4f2a-b25c-72ed481bbe0f",
   "metadata": {},
   "outputs": [
    {
     "data": {
      "text/html": [
       "<div>\n",
       "<style scoped>\n",
       "    .dataframe tbody tr th:only-of-type {\n",
       "        vertical-align: middle;\n",
       "    }\n",
       "\n",
       "    .dataframe tbody tr th {\n",
       "        vertical-align: top;\n",
       "    }\n",
       "\n",
       "    .dataframe thead th {\n",
       "        text-align: right;\n",
       "    }\n",
       "</style>\n",
       "<table border=\"1\" class=\"dataframe\">\n",
       "  <thead>\n",
       "    <tr style=\"text-align: right;\">\n",
       "      <th></th>\n",
       "      <th>selling_price</th>\n",
       "      <th>km_driven</th>\n",
       "    </tr>\n",
       "  </thead>\n",
       "  <tbody>\n",
       "    <tr>\n",
       "      <th>selling_price</th>\n",
       "      <td>1.000000</td>\n",
       "      <td>-0.212937</td>\n",
       "    </tr>\n",
       "    <tr>\n",
       "      <th>km_driven</th>\n",
       "      <td>-0.212937</td>\n",
       "      <td>1.000000</td>\n",
       "    </tr>\n",
       "  </tbody>\n",
       "</table>\n",
       "</div>"
      ],
      "text/plain": [
       "               selling_price  km_driven\n",
       "selling_price       1.000000  -0.212937\n",
       "km_driven          -0.212937   1.000000"
      ]
     },
     "execution_count": 15,
     "metadata": {},
     "output_type": "execute_result"
    }
   ],
   "source": [
    "### Correlation Matrix\n",
    "bikeDetails[[\"selling_price\", \"km_driven\"]].corr()"
   ]
  },
  {
   "cell_type": "code",
   "execution_count": 18,
   "id": "f6bff74e-ddc5-4348-9dbf-5d2aab96eb42",
   "metadata": {},
   "outputs": [
    {
     "data": {
      "text/plain": [
       "(-0.2129367071445366, 2.411679611918878e-12)"
      ]
     },
     "execution_count": 18,
     "metadata": {},
     "output_type": "execute_result"
    }
   ],
   "source": [
    "### Pearson correlation\n",
    "stat.pearsonr(bikeDetails.selling_price, bikeDetails.km_driven)\n",
    "### the P value is smaller than 0.05, and the correlation coefficient is -0.2129, significate negative correlation."
   ]
  },
  {
   "cell_type": "markdown",
   "id": "409d8501-43a7-423b-9d66-b4ed72c2464e",
   "metadata": {},
   "source": [
    "## <font color=\"red\">Plots of</font> <font color=\"Green\"><i>selling_price</i></font> <font color=\"red\">and</font> <font color=\"Green\"><i>km_driven</i></font>"
   ]
  },
  {
   "cell_type": "code",
   "execution_count": 29,
   "id": "615ca01c-9c11-44d5-9f2e-3f51b12556c7",
   "metadata": {},
   "outputs": [
    {
     "data": {
      "image/png": "[encoded data removed]",
      "text/plain": [
       "<Figure size 1440x1440 with 1 Axes>"
      ]
     },
     "metadata": {
      "needs_background": "light"
     },
     "output_type": "display_data"
    }
   ],
   "source": [
    "### Histogram for selling_price\n",
    "fig, ax = plt.subplots(figsize=(20,20))\n",
    "n, bins, patches=plt.hist(bikeDetails[\"selling_price\"], bins=20, alpha = 0.5)\n",
    "plt.ylabel(\"Price Frequency\")\n",
    "plt.xlabel(\"Selling Price\")\n",
    "plt.xticks(bins)\n",
    "plt.title(\"Selling Price distribution\")\n",
    "plt.show()\n",
    "plt.close()"
   ]
  },
  {
   "cell_type": "code",
   "execution_count": 31,
   "id": "6303e4eb-5b45-4ddb-9953-7dc0d7ede23b",
   "metadata": {},
   "outputs": [
    {
     "data": {
      "image/png": "[encoded data removed]",
      "text/plain": [
       "<Figure size 1440x1440 with 1 Axes>"
      ]
     },
     "metadata": {
      "needs_background": "light"
     },
     "output_type": "display_data"
    }
   ],
   "source": [
    "### Histogram for kw_driven\n",
    "fig, ax = plt.subplots(figsize=(20,20))\n",
    "n, bins, patches=plt.hist(bikeDetails[\"km_driven\"], bins=20, alpha = 0.5)\n",
    "plt.ylabel(\"KW Frequency\")\n",
    "plt.xlabel(\"KW Driven\")\n",
    "plt.xticks(bins)\n",
    "plt.title(\"KW Driven distribution\")\n",
    "plt.show()\n",
    "plt.close()"
   ]
  },
  {
   "cell_type": "code",
   "execution_count": 11,
   "id": "5211ac13-f41d-4a0b-a0c9-5f47c9b86864",
   "metadata": {},
   "outputs": [
    {
     "data": {
      "image/png": "[encoded data removed]",
      "text/plain": [
       "<Figure size 432x432 with 1 Axes>"
      ]
     },
     "metadata": {
      "needs_background": "light"
     },
     "output_type": "display_data"
    }
   ],
   "source": [
    "# Kernel density for selling_price #\n",
    "fig, ax = plt.subplots(figsize=(6,6))\n",
    "bikeDetails[\"selling_price\"].plot.density(bw_method = 0.5, label = \"BW = 0.5\", ax=ax)\n",
    "plt.ylabel(\"Density\")\n",
    "plt.xlabel(\"Selling Price\")\n",
    "plt.title(\"Selling Price Density\")\n",
    "plt.legend()\n",
    "plt.show()\n",
    "plt.close()"
   ]
  },
  {
   "cell_type": "code",
   "execution_count": 12,
   "id": "d2ef52c1-49e3-4b87-aecd-bc4fc5904419",
   "metadata": {},
   "outputs": [
    {
     "data": {
      "image/png": "[encoded data removed]",
      "text/plain": [
       "<Figure size 432x432 with 1 Axes>"
      ]
     },
     "metadata": {
      "needs_background": "light"
     },
     "output_type": "display_data"
    }
   ],
   "source": [
    "# Kernel density for kw_driven #\n",
    "fig, ax = plt.subplots(figsize=(6,6))\n",
    "bikeDetails[\"km_driven\"].plot.density(bw_method = 0.5, label = \"BW = 0.5\", ax=ax)\n",
    "plt.ylabel(\"Density\")\n",
    "plt.xlabel(\"KM Driven\")\n",
    "plt.title(\"KM Driven Density\")\n",
    "plt.legend()\n",
    "plt.show()\n",
    "plt.close()"
   ]
  },
  {
   "cell_type": "code",
   "execution_count": 14,
   "id": "5a460bf8-96a4-4426-83da-c90f3d7ddf06",
   "metadata": {},
   "outputs": [
    {
     "data": {
      "image/png": "[encoded data removed]",
      "text/plain": [
       "<Figure size 432x432 with 1 Axes>"
      ]
     },
     "metadata": {
      "needs_background": "light"
     },
     "output_type": "display_data"
    }
   ],
   "source": [
    "# Selling_price vs KM_Driven Scatterplot #\n",
    "fig, ax = plt.subplots(figsize=(6,6))\n",
    "bikeDetails.plot.scatter (x= \"selling_price\", y=\"km_driven\", cmap = \"plasma\", ax=ax)\n",
    "plt.xlabel(\"Selling Price\")\n",
    "plt.ylabel(\"KM Driven\")\n",
    "plt.title(\"Selling Price vs KM Driven Scatterplot\")\n",
    "plt.show()\n",
    "plt.close()"
   ]
  },
  {
   "cell_type": "markdown",
   "id": "f1e957f9-f841-42fe-8a95-f442e7091771",
   "metadata": {},
   "source": [
    "## <font color=\"red\">Contingency Table and Bar Chart of</font> <font color=\"Green\"><i>year</i></font> <font color=\"red\">and</font> <font color=\"Green\"><i>owner</i></font>"
   ]
  },
  {
   "cell_type": "code",
   "execution_count": 36,
   "id": "6b92f001-5ac7-4d13-9e4b-ef0664827b01",
   "metadata": {},
   "outputs": [
    {
     "name": "stdout",
     "output_type": "stream",
     "text": [
      "owner  1st owner  2nd owner  3rd owner  4th owner\n",
      "year                                             \n",
      "1988           1          0          0          0\n",
      "1991           1          0          0          0\n",
      "1993           0          1          0          0\n",
      "1995           0          0          1          0\n",
      "1997           2          0          0          0\n",
      "1998           2          0          1          0\n",
      "1999           0          1          0          0\n",
      "2000           4          0          1          1\n",
      "2001           1          1          0          0\n",
      "2002           1          2          0          0\n",
      "2003           1          0          0          0\n",
      "2004           4          1          0          0\n",
      "2005          11          3          0          0\n",
      "2006          17          3          0          0\n",
      "2007          24          5          0          0\n",
      "2008          21          5          2          0\n",
      "2009          21          5          1          1\n",
      "2010          50         10          0          0\n",
      "2011          50         10          1          0\n",
      "2012          56         13          1          0\n",
      "2013          66          6          1          0\n",
      "2014          75         15          0          1\n",
      "2015          83         16          1          0\n",
      "2016          95         12          0          0\n",
      "2017         122         10          1          0\n",
      "2018         128          3          0          0\n",
      "2019          85          1          0          0\n",
      "2020           3          0          0          0\n"
     ]
    }
   ],
   "source": [
    "### Contingency table\n",
    "bikeDetails.owner = bikeDetails.owner.astype(\"category\")\n",
    "bikeDetails.year = bikeDetails.year.astype(\"category\")\n",
    "bikeDetails.year [0:4]\n",
    "table = pd.crosstab(bikeDetails.year, bikeDetails.owner)\n",
    "print(table)"
   ]
  },
  {
   "cell_type": "code",
   "execution_count": 39,
   "id": "02eccf06-f9e1-4157-a7d2-e26e46fd3139",
   "metadata": {},
   "outputs": [
    {
     "data": {
      "image/png": "[encoded data removed]",
      "text/plain": [
       "<Figure size 1440x1440 with 1 Axes>"
      ]
     },
     "metadata": {
      "needs_background": "light"
     },
     "output_type": "display_data"
    }
   ],
   "source": [
    "### Bar chart\n",
    "fig, ax = plt.subplots(figsize=(20,20))\n",
    "table.plot.bar(ax=ax)\n",
    "plt.xlabel(\"Motorcycle Year\")\n",
    "plt.ylabel(\"Frequency\")\n",
    "plt.title(\"Motorcycle Year vs Owner Type Distribution\")\n",
    "plt.xticks(rotation = 0)\n",
    "plt.show()\n",
    "plt.close()"
   ]
  },
  {
   "cell_type": "markdown",
   "id": "634212fd-a26b-4522-8348-777e60ebbc94",
   "metadata": {},
   "source": [
    "# Loss Function\n",
    "\n",
    "  We start of our analysis with a Loss Function which will help us understand the quality of our methods below. This is done by measuring the Root Mean Square Error (RMSE) which indicates how \"off\" we were in our model. \n",
    "  \n",
    "  RMSE = $\\sqrt{\\frac{1}{n}\\sum_{i=1}^n{L(y_i,c)}} - \\sqrt{\\frac{1}{n}\\sum_{i=1}^n{(y_i - c)^2}}$\n",
    "  \n",
    "For this equation to work we want to find the value for c that minimizes the RMSE meaning we have the least amount of \"Loss\" in our equation."
   ]
  },
  {
   "cell_type": "markdown",
   "id": "f132387b-04ba-4117-a742-a3472f8b47da",
   "metadata": {},
   "source": [
    "# <font color=\"Red\"><b>Methods One</b></font>\n",
    "## <font color=\"Green\">Grid Search of using just the y′s</font>"
   ]
  },
  {
   "cell_type": "code",
   "execution_count": 5,
   "id": "385b032b-e9d0-4bee-a5d6-7e34d776aabf",
   "metadata": {},
   "outputs": [],
   "source": [
    "### Find a grid of values using selling_price' mean and standard deviation\n",
    "grid_y = np.random.normal(59638.151744, 56304.291973, 1000)"
   ]
  },
  {
   "cell_type": "code",
   "execution_count": 6,
   "id": "98698641-6ec5-4260-a89f-a6ea8b304461",
   "metadata": {
    "tags": []
   },
   "outputs": [
    {
     "data": {
      "text/plain": [
       "1000"
      ]
     },
     "execution_count": 6,
     "metadata": {},
     "output_type": "execute_result"
    }
   ],
   "source": [
    "### convert grid array to series\n",
    "grid_y1 = pd.Series(grid_y)\n",
    "len(grid_y1)"
   ]
  },
  {
   "cell_type": "code",
   "execution_count": 3,
   "id": "10e3742a-77d4-4953-a63d-076ee3323bc0",
   "metadata": {},
   "outputs": [],
   "source": [
    "### Creat a RMSE Algorithm\n",
    "def find_best_c(x, y):\n",
    "    \"\"\"\n",
    "    Calculate RMSE from all the c and append them into a list, find the minimal RMSE and return the corresponding c value\n",
    "    \"\"\"\n",
    "    c_rmse = []\n",
    "    for i in range(0, len(x)):\n",
    "        rmse = np.sqrt(sum((y - x[i])**2)/len(y))\n",
    "        c_rmse.append(rmse)\n",
    "    min_rmse = min(c_rmse)\n",
    "    min_loc = c_rmse.index(min_rmse)\n",
    "    optimal_c = x[min_loc]\n",
    "    return min_rmse, min_loc, optimal_c"
   ]
  },
  {
   "cell_type": "code",
   "execution_count": 100,
   "id": "2539b6eb-9e2d-4206-b43f-019a6f0b9fd3",
   "metadata": {
    "tags": []
   },
   "outputs": [
    {
     "data": {
      "text/plain": [
       "(56277.811599589, 864, 59556.33124048)"
      ]
     },
     "execution_count": 100,
     "metadata": {},
     "output_type": "execute_result"
    }
   ],
   "source": [
    "find_best_c(grid_y1, bikeDetails.selling_price)"
   ]
  },
  {
   "cell_type": "code",
   "execution_count": 101,
   "id": "04cf5994-4706-4e64-9ca4-dc55d9ba555e",
   "metadata": {},
   "outputs": [
    {
     "name": "stdout",
     "output_type": "stream",
     "text": [
      "59638.151743638075 56277.811599589\n"
     ]
    }
   ],
   "source": [
    "### Verification, change the float in rmse_test equation to the third number returned by \"find_best_c\" funtion\n",
    "price_mean = bikeDetails.selling_price.mean()\n",
    "rmse_test = np.sqrt(sum((bikeDetails.selling_price - 59556.33124048)**2)/len(bikeDetails.selling_price))\n",
    "print(price_mean, rmse_test)"
   ]
  },
  {
   "cell_type": "markdown",
   "id": "111d565b-62d2-4506-8bac-13e926fca696",
   "metadata": {},
   "source": [
    "## <font color=\"Green\">Run the function using km_driven</font>"
   ]
  },
  {
   "cell_type": "code",
   "execution_count": 7,
   "id": "513ae3c6-182e-499f-ad4f-4e1601e6a26c",
   "metadata": {},
   "outputs": [
    {
     "data": {
      "text/plain": [
       "(51598.85318787341, 918, 34418.905718851034)"
      ]
     },
     "execution_count": 7,
     "metadata": {},
     "output_type": "execute_result"
    }
   ],
   "source": [
    "find_best_c(grid_y1, bikeDetails.km_driven)"
   ]
  },
  {
   "cell_type": "markdown",
   "id": "c87b4f5c-0d8a-4ae6-b7f8-4b224cb2887a",
   "metadata": {},
   "source": [
    "# <font color=\"Red\"><b>Methods Two</b></font>\n",
    "## <font color=\"Green\">Gradient Descent of using just the y′s</font>"
   ]
  },
  {
   "cell_type": "code",
   "execution_count": 89,
   "id": "350a1914-a27a-45f8-819e-e4e36b79aa9a",
   "metadata": {},
   "outputs": [],
   "source": [
    "### Creat a Gradient Descent Algorithm\n",
    "def find_best_c_g(var, step_size, rounds):\n",
    "    \"\"\"\n",
    "    Pick initial c and initial delta, create new c value based on the slop and step size, \n",
    "    loop through untill either the absolute difference between new c and cur c are smaller than 50 or reach the maximum iteration \n",
    "    \"\"\"\n",
    "    cur_c = var.mean() - 5000\n",
    "    cur_c_rmse = np.sqrt(sum((var - cur_c)**2)/len(var))\n",
    "    delta_rmse = np.sqrt(sum((var - (cur_c + 0.0001))**2)/len(var))\n",
    "    slop = (delta_rmse - cur_c_rmse)/0.0001\n",
    "    c = []\n",
    "    for i in range(0, rounds):\n",
    "        new_c = cur_c - slop*step_size\n",
    "        c.append(new_c)\n",
    "        c_length = len(c) ###see how many iteration\n",
    "        if abs(new_c - cur_c) >= 0.0875:\n",
    "            new_c_rmse = np.sqrt(sum((var - new_c)**2)/len(var))\n",
    "            cur_c_rmse = np.sqrt(sum((var - cur_c)**2)/len(var))\n",
    "            delta = new_c - cur_c\n",
    "            slop = (new_c_rmse - cur_c_rmse)/delta\n",
    "            cur_c = new_c\n",
    "        else:\n",
    "            cur_c = new_c\n",
    "            break\n",
    "    return cur_c, c_length"
   ]
  },
  {
   "cell_type": "code",
   "execution_count": 90,
   "id": "5974218e-c7fe-4f0c-9a9a-53649da8a856",
   "metadata": {},
   "outputs": [
    {
     "data": {
      "text/plain": [
       "(54695.08588311897, 647)"
      ]
     },
     "execution_count": 90,
     "metadata": {},
     "output_type": "execute_result"
    }
   ],
   "source": [
    "find_best_c_g(bikeDetails.selling_price, 1, 1000)"
   ]
  },
  {
   "cell_type": "markdown",
   "id": "d5ad6d0c-e15e-442e-b9c3-288f691d01aa",
   "metadata": {},
   "source": [
    "## <font color=\"Green\">Run the function using km_driven</font>"
   ]
  },
  {
   "cell_type": "code",
   "execution_count": 91,
   "id": "0a7fff7f-7794-4102-9c01-73062fc08d2d",
   "metadata": {},
   "outputs": [
    {
     "data": {
      "text/plain": [
       "(29455.368739167945, 1000)"
      ]
     },
     "execution_count": 91,
     "metadata": {},
     "output_type": "execute_result"
    }
   ],
   "source": [
    "find_best_c_g(bikeDetails.km_driven, 1, 1000)"
   ]
  },
  {
   "cell_type": "code",
   "execution_count": null,
   "id": "805458e6-e853-4c94-8f17-8cd30920b834",
   "metadata": {},
   "outputs": [],
   "source": []
  },
  {
   "cell_type": "code",
   "execution_count": null,
   "id": "74ea0063-07ea-45a2-be31-5ca38ce62ce0",
   "metadata": {},
   "outputs": [],
   "source": []
  },
  {
   "cell_type": "code",
   "execution_count": null,
   "id": "a44499ab-2e90-4a3e-8eff-5e1ffe098dfc",
   "metadata": {},
   "outputs": [],
   "source": []
  },
  {
   "cell_type": "code",
   "execution_count": null,
   "id": "6a5f7ac9-c4ae-4354-8903-2e1c0d1bb40f",
   "metadata": {},
   "outputs": [],
   "source": []
  },
  {
   "cell_type": "code",
   "execution_count": null,
   "id": "b61cf74c-bfbf-4140-a0f3-acd193601644",
   "metadata": {},
   "outputs": [],
   "source": []
  },
  {
   "cell_type": "code",
   "execution_count": null,
   "id": "fa81bd17-1d41-4ec8-b99c-d284a7e83cf9",
   "metadata": {},
   "outputs": [],
   "source": []
  },
  {
   "cell_type": "code",
   "execution_count": null,
   "id": "88024afc-5aa6-4683-b477-f9dce78e4a85",
   "metadata": {},
   "outputs": [],
   "source": []
  },
  {
   "cell_type": "code",
   "execution_count": null,
   "id": "3a286734-efc2-4824-bb15-1a2d35f90411",
   "metadata": {},
   "outputs": [],
   "source": []
  },
  {
   "cell_type": "code",
   "execution_count": null,
   "id": "e68928e0-c885-4dbf-b46d-a9fbd027a7f4",
   "metadata": {},
   "outputs": [],
   "source": []
  },
  {
   "cell_type": "code",
   "execution_count": null,
   "id": "f2f6fec3-e79f-46af-ac79-bd8f86573c75",
   "metadata": {},
   "outputs": [],
   "source": []
  },
  {
   "cell_type": "code",
   "execution_count": null,
   "id": "88829993-5e97-4449-915d-5df1c1217c2a",
   "metadata": {},
   "outputs": [],
   "source": []
  },
  {
   "cell_type": "code",
   "execution_count": null,
   "id": "e09cac20-6a53-4d3b-8b1a-82689ef9ec43",
   "metadata": {},
   "outputs": [],
   "source": []
  },
  {
   "cell_type": "code",
   "execution_count": null,
   "id": "a2b9a95f-9dd6-4afc-86da-a7b2c3552511",
   "metadata": {},
   "outputs": [],
   "source": []
  },
  {
   "cell_type": "code",
   "execution_count": null,
   "id": "d856151d-6dfc-4f9e-bfd2-594c84f2bdb9",
   "metadata": {},
   "outputs": [],
   "source": []
  },
  {
   "cell_type": "code",
   "execution_count": null,
   "id": "bcd90727-f02d-408d-be82-19c8834d0a27",
   "metadata": {},
   "outputs": [],
   "source": []
  },
  {
   "cell_type": "code",
   "execution_count": null,
   "id": "78366870-a5a3-4830-bec8-cc0ced424fc4",
   "metadata": {},
   "outputs": [],
   "source": []
  },
  {
   "cell_type": "code",
   "execution_count": null,
   "id": "f4e87361-4ffc-44f3-ba6a-062b648f27d0",
   "metadata": {},
   "outputs": [],
   "source": []
  },
  {
   "cell_type": "code",
   "execution_count": null,
   "id": "481edd17-c0fb-4c17-a41a-d3bf45a94d0d",
   "metadata": {},
   "outputs": [],
   "source": []
  },
  {
   "cell_type": "code",
   "execution_count": null,
   "id": "561e8bae-fe3b-444e-b950-8991b2be5b46",
   "metadata": {},
   "outputs": [],
   "source": []
  },
  {
   "cell_type": "code",
   "execution_count": null,
   "id": "e9d2ac3b-0c5f-4f8f-a641-1e01b237b3c5",
   "metadata": {},
   "outputs": [],
   "source": []
  },
  {
   "cell_type": "code",
   "execution_count": null,
   "id": "858bf852-ad03-4c5c-8fa5-adb4fbfda2d8",
   "metadata": {},
   "outputs": [],
   "source": []
  },
  {
   "cell_type": "code",
   "execution_count": null,
   "id": "c79e0524-e862-44d1-a554-39c27bed50eb",
   "metadata": {},
   "outputs": [],
   "source": []
  },
  {
   "cell_type": "code",
   "execution_count": null,
   "id": "6d022995-588e-424a-bef7-8237ef80d9de",
   "metadata": {},
   "outputs": [],
   "source": []
  },
  {
   "cell_type": "code",
   "execution_count": null,
   "id": "bf285985-116a-4153-a015-ef58377d2ac2",
   "metadata": {},
   "outputs": [],
   "source": []
  },
  {
   "cell_type": "code",
   "execution_count": null,
   "id": "80e08635-0887-4599-a34f-16c5f65a6e7b",
   "metadata": {},
   "outputs": [],
   "source": []
  },
  {
   "cell_type": "code",
   "execution_count": null,
   "id": "3726a3bc-ebaa-4eb7-a963-c1709078bb51",
   "metadata": {},
   "outputs": [],
   "source": []
  },
  {
   "cell_type": "code",
   "execution_count": null,
   "id": "e048858d-6e32-4590-9a79-cc2fe21d0c75",
   "metadata": {},
   "outputs": [],
   "source": []
  },
  {
   "cell_type": "code",
   "execution_count": null,
   "id": "eb5fcbd9-1adb-434f-b507-e95b134d0812",
   "metadata": {},
   "outputs": [],
   "source": []
  },
  {
   "cell_type": "code",
   "execution_count": null,
   "id": "ba711fbf-d73e-480a-b712-26e45b1ba097",
   "metadata": {},
   "outputs": [],
   "source": []
  },
  {
   "cell_type": "code",
   "execution_count": null,
   "id": "bde9de34-ff12-49e8-b421-01eb898f6221",
   "metadata": {},
   "outputs": [],
   "source": []
  },
  {
   "cell_type": "code",
   "execution_count": null,
   "id": "e0d075cb-90ad-4f0c-a5bf-b3ee16f407de",
   "metadata": {},
   "outputs": [],
   "source": []
  },
  {
   "cell_type": "code",
   "execution_count": null,
   "id": "24f78d6d-b770-4396-8576-0ac7f53f2f32",
   "metadata": {},
   "outputs": [],
   "source": []
  },
  {
   "cell_type": "code",
   "execution_count": null,
   "id": "9f8958f5-be38-4614-93d4-0d946981c1a1",
   "metadata": {},
   "outputs": [],
   "source": []
  },
  {
   "cell_type": "code",
   "execution_count": null,
   "id": "36eb2e82-6b8d-41a9-9254-80f521f833d0",
   "metadata": {},
   "outputs": [],
   "source": []
  },
  {
   "cell_type": "code",
   "execution_count": null,
   "id": "c963661c-f2b1-4016-a44d-a38d2c573e3f",
   "metadata": {},
   "outputs": [],
   "source": []
  }
 ],
 "metadata": {
  "kernelspec": {
   "display_name": "Python 3 (ipykernel)",
   "language": "python",
   "name": "python3"
  },
  "language_info": {
   "codemirror_mode": {
    "name": "ipython",
    "version": 3
   },
   "file_extension": ".py",
   "mimetype": "text/x-python",
   "name": "python",
   "nbconvert_exporter": "python",
   "pygments_lexer": "ipython3",
   "version": "3.10.1"
  }
 },
 "nbformat": 4,
 "nbformat_minor": 5
}
