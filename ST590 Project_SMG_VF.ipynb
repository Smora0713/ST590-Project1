{
 "cells": [
  {
   "cell_type": "markdown",
   "id": "b780b92f-062c-406a-85a0-c55c67c664d0",
   "metadata": {},
   "source": [
    "# <font color=\"Yellow\"><b>ST590 Project 1</b></font>\n",
    "## <font color=\"Green\">Sergio Mora & Vivi Feathers</font>"
   ]
  },
  {
   "cell_type": "markdown",
   "id": "2a207881-3f5e-4671-b351-de4625677fb6",
   "metadata": {},
   "source": [
    "# <font color=\"red\"><b>Introduction</b></font>\n",
    "<font color=\"green\">Purples:</font> Predict a value of <i>selling_price</i> for a new motorcycle.\n",
    "\n",
    "<font color=\"green\">Dataset name:</font> <b>BikeDetails</b> <br>\n",
    "This dataset contains information about used motorcycles, including their features and selling prices.\n",
    "\n",
    "<font color=\"green\">Variables used:</font> <i>selling_price</i>, <i>km_driven</i>\n",
    "<style>\n",
    "        .tab1 {\n",
    "            tab-size: 2;\n",
    "        }\n",
    "    </style>\n",
    "<font color=\"green\">Methods:</font><br>\n",
    "<pre class=\"tab1\">1. Grid search</pre>\n",
    "<pre class=\"tab1\">2. Gradient descent</pre>\n",
    "        \n",
    "<font color=\"green\">Algorithms:</font><br>\n",
    "<pre class=\"tab1\">1. Using only <i>selling_price</i> to predict c</pre>\n",
    "<pre class=\"tab1\">2. Using simple linear regression with <i>selling_price</i> and <i>km_driven</i> to predict c</pre>\n",
    " \n",
    "<font color=\"green\">Modules:</font><br>\n",
    "<pre class=\"tab1\">1. pandas</pre>\n",
    "<pre class=\"tab1\">2. numpy</pre>\n",
    "<pre class=\"tab1\">3. matplotlib.pyplot</pre>\n",
    "<pre class=\"tab1\">4. scipy.stats</pre>\n",
    "\n",
    " ## <font color=\"red\">Read in dataset and display the first several rows</font>"
   ]
  },
  {
   "cell_type": "code",
   "execution_count": 1,
   "id": "225f7f53-5eb2-49af-b172-cd77c133ba9c",
   "metadata": {},
   "outputs": [],
   "source": [
    "### Import modules\n",
    "import pandas as pd\n",
    "import numpy  as np\n",
    "import matplotlib.pyplot as plt\n",
    "import scipy.stats as stat\n",
    "from sklearn.linear_model import LinearRegression\n",
    "import random as rd\n",
    "from scipy.spatial import distance"
   ]
  },
  {
   "cell_type": "code",
   "execution_count": 2,
   "id": "887b92ef-78ef-43fb-8bea-d8f074b56b3f",
   "metadata": {},
   "outputs": [],
   "source": [
    "### Reading the data\n",
    "bikeDetails = pd.read_csv(\"bikeDetails.csv\")"
   ]
  },
  {
   "cell_type": "code",
   "execution_count": 4,
   "id": "a1ea8119-07ab-4ad1-ba16-22cb3b0244f7",
   "metadata": {},
   "outputs": [
    {
     "name": "stdout",
     "output_type": "stream",
     "text": [
      "(1061, 7)\n"
     ]
    },
    {
     "data": {
      "text/html": [
       "<div>\n",
       "<style scoped>\n",
       "    .dataframe tbody tr th:only-of-type {\n",
       "        vertical-align: middle;\n",
       "    }\n",
       "\n",
       "    .dataframe tbody tr th {\n",
       "        vertical-align: top;\n",
       "    }\n",
       "\n",
       "    .dataframe thead th {\n",
       "        text-align: right;\n",
       "    }\n",
       "</style>\n",
       "<table border=\"1\" class=\"dataframe\">\n",
       "  <thead>\n",
       "    <tr style=\"text-align: right;\">\n",
       "      <th></th>\n",
       "      <th>name</th>\n",
       "      <th>selling_price</th>\n",
       "      <th>year</th>\n",
       "      <th>seller_type</th>\n",
       "      <th>owner</th>\n",
       "      <th>km_driven</th>\n",
       "      <th>ex_showroom_price</th>\n",
       "    </tr>\n",
       "  </thead>\n",
       "  <tbody>\n",
       "    <tr>\n",
       "      <th>0</th>\n",
       "      <td>Royal Enfield Classic 350</td>\n",
       "      <td>175000</td>\n",
       "      <td>2019</td>\n",
       "      <td>Individual</td>\n",
       "      <td>1st owner</td>\n",
       "      <td>350</td>\n",
       "      <td>NaN</td>\n",
       "    </tr>\n",
       "    <tr>\n",
       "      <th>1</th>\n",
       "      <td>Honda Dio</td>\n",
       "      <td>45000</td>\n",
       "      <td>2017</td>\n",
       "      <td>Individual</td>\n",
       "      <td>1st owner</td>\n",
       "      <td>5650</td>\n",
       "      <td>NaN</td>\n",
       "    </tr>\n",
       "    <tr>\n",
       "      <th>2</th>\n",
       "      <td>Royal Enfield Classic Gunmetal Grey</td>\n",
       "      <td>150000</td>\n",
       "      <td>2018</td>\n",
       "      <td>Individual</td>\n",
       "      <td>1st owner</td>\n",
       "      <td>12000</td>\n",
       "      <td>148114.0</td>\n",
       "    </tr>\n",
       "    <tr>\n",
       "      <th>3</th>\n",
       "      <td>Yamaha Fazer FI V 2.0 [2016-2018]</td>\n",
       "      <td>65000</td>\n",
       "      <td>2015</td>\n",
       "      <td>Individual</td>\n",
       "      <td>1st owner</td>\n",
       "      <td>23000</td>\n",
       "      <td>89643.0</td>\n",
       "    </tr>\n",
       "    <tr>\n",
       "      <th>4</th>\n",
       "      <td>Yamaha SZ [2013-2014]</td>\n",
       "      <td>20000</td>\n",
       "      <td>2011</td>\n",
       "      <td>Individual</td>\n",
       "      <td>2nd owner</td>\n",
       "      <td>21000</td>\n",
       "      <td>NaN</td>\n",
       "    </tr>\n",
       "  </tbody>\n",
       "</table>\n",
       "</div>"
      ],
      "text/plain": [
       "                                  name  selling_price  year seller_type  \\\n",
       "0            Royal Enfield Classic 350         175000  2019  Individual   \n",
       "1                            Honda Dio          45000  2017  Individual   \n",
       "2  Royal Enfield Classic Gunmetal Grey         150000  2018  Individual   \n",
       "3    Yamaha Fazer FI V 2.0 [2016-2018]          65000  2015  Individual   \n",
       "4                Yamaha SZ [2013-2014]          20000  2011  Individual   \n",
       "\n",
       "       owner  km_driven  ex_showroom_price  \n",
       "0  1st owner        350                NaN  \n",
       "1  1st owner       5650                NaN  \n",
       "2  1st owner      12000           148114.0  \n",
       "3  1st owner      23000            89643.0  \n",
       "4  2nd owner      21000                NaN  "
      ]
     },
     "execution_count": 4,
     "metadata": {},
     "output_type": "execute_result"
    }
   ],
   "source": [
    "### Data structure and first several rows\n",
    "a=bikeDetails.shape\n",
    "print(a)\n",
    "bikeDetails.head()"
   ]
  },
  {
   "cell_type": "markdown",
   "id": "95c0fee2-5991-4ec7-ab86-4f317a686483",
   "metadata": {},
   "source": [
    "# <font color=\"red\"><b>EDA</b></font>\n",
    "## <font color=\"Green\"><i>selling_price</i></font>"
   ]
  },
  {
   "cell_type": "code",
   "execution_count": 5,
   "id": "f7813209-8e9c-4ec5-bcf1-c2a5eb6923a3",
   "metadata": {},
   "outputs": [
    {
     "data": {
      "text/plain": [
       "count      1061.000000\n",
       "mean      59638.151744\n",
       "std       56304.291973\n",
       "min        5000.000000\n",
       "25%       28000.000000\n",
       "50%       45000.000000\n",
       "75%       70000.000000\n",
       "max      760000.000000\n",
       "Name: selling_price, dtype: float64"
      ]
     },
     "execution_count": 5,
     "metadata": {},
     "output_type": "execute_result"
    }
   ],
   "source": [
    "### General information\n",
    "bikeDetails[\"selling_price\"].describe(percentiles=[0.25, 0.75])"
   ]
  },
  {
   "cell_type": "code",
   "execution_count": 6,
   "id": "4160ffc7-e5a0-4cfe-9e8b-b8edf433eb5d",
   "metadata": {},
   "outputs": [
    {
     "name": "stdout",
     "output_type": "stream",
     "text": [
      "2.972154042832937e-42\n",
      "The meidian of selling_price is 45000.0\n",
      "The first quartile of selling_price is 0.25    28000.0\n",
      "Name: selling_price, dtype: float64\n",
      "The third quartile of selling_price is 0.75    70000.0\n",
      "Name: selling_price, dtype: float64\n",
      "The IQR of selling_price is 42000.0\n"
     ]
    }
   ],
   "source": [
    "# Check normality #\n",
    "import scipy.stats as stat\n",
    "stat, p = stat.shapiro(bikeDetails[\"selling_price\"])\n",
    "print(p)\n",
    "# not normally distributed, use median and IQR #\n",
    "median_price = bikeDetails[\"selling_price\"].median()\n",
    "q1_price = bikeDetails[\"selling_price\"].quantile(q = [0.25])\n",
    "q3_price = bikeDetails[\"selling_price\"].quantile(q = [0.75])\n",
    "IQR_price = q3_price[0.75] - q1_price[0.25]\n",
    "print(\"The meidian of selling_price is\", median_price)\n",
    "print(\"The first quartile of selling_price is\", q1_price)\n",
    "print(\"The third quartile of selling_price is\", q3_price)\n",
    "print(\"The IQR of selling_price is\", IQR_price)"
   ]
  },
  {
   "cell_type": "code",
   "execution_count": 7,
   "id": "53db88fb-8942-4a4b-8603-a7abe1a106de",
   "metadata": {},
   "outputs": [
    {
     "name": "stdout",
     "output_type": "stream",
     "text": [
      "             selling_price\n",
      "seller_type               \n",
      "Dealer             44000.0\n",
      "Individual         45000.0\n",
      "                  selling_price\n",
      "seller_type                    \n",
      "Dealer      0.25        28250.0\n",
      "Individual  0.25        28000.0\n",
      "                  selling_price\n",
      "seller_type                    \n",
      "Dealer      0.25        28250.0\n",
      "Individual  0.25        28000.0\n"
     ]
    }
   ],
   "source": [
    "### Median, Q1 and Q3 of selling_price in different seller_type groups\n",
    "bikeDetails.seller_type = bikeDetails.seller_type.astype(\"category\")\n",
    "bike_sub = bikeDetails.loc[:,[\"seller_type\",\"selling_price\"]]\n",
    "price_group_median=bike_sub.groupby(\"seller_type\").median()\n",
    "print(price_group_median)\n",
    "price_group_q1=bike_sub.groupby(\"seller_type\").quantile(q = [0.25])\n",
    "print(price_group_q1)\n",
    "price_group_q3=bike_sub.groupby(\"seller_type\").quantile(q = [0.25])\n",
    "print(price_group_q3)"
   ]
  },
  {
   "cell_type": "markdown",
   "id": "a3552ae5-6589-4834-8dd9-a588272f6838",
   "metadata": {},
   "source": [
    "## <font color=\"Green\"><i>km_driven</i></font>"
   ]
  },
  {
   "cell_type": "code",
   "execution_count": 8,
   "id": "631a03c7-68ac-44e3-b3e9-fd9cc587ddc9",
   "metadata": {},
   "outputs": [
    {
     "data": {
      "text/plain": [
       "count      1061.000000\n",
       "mean      34359.833176\n",
       "std       51623.152702\n",
       "min         350.000000\n",
       "25%       13500.000000\n",
       "50%       25000.000000\n",
       "75%       43000.000000\n",
       "max      880000.000000\n",
       "Name: km_driven, dtype: float64"
      ]
     },
     "execution_count": 8,
     "metadata": {},
     "output_type": "execute_result"
    }
   ],
   "source": [
    "### General information\n",
    "bikeDetails[\"km_driven\"].describe(percentiles=[0.25, 0.75])"
   ]
  },
  {
   "cell_type": "code",
   "execution_count": 9,
   "id": "555eabfa-0ebd-43e4-a60c-23c23a084448",
   "metadata": {},
   "outputs": [
    {
     "name": "stdout",
     "output_type": "stream",
     "text": [
      "0.0\n",
      "The meidian of km_driven is 25000.0\n",
      "The first quartile of km_driven is 0.25    13500.0\n",
      "Name: km_driven, dtype: float64\n",
      "The third quartile of km_driven is 0.75    43000.0\n",
      "Name: km_driven, dtype: float64\n",
      "The IQR of km_driven is 29500.0\n"
     ]
    }
   ],
   "source": [
    "# Check normality #\n",
    "import scipy.stats as stat\n",
    "stat, p = stat.shapiro(bikeDetails[\"km_driven\"])\n",
    "print(p)\n",
    "# not normally distributed, use median and IQR #\n",
    "median_km = bikeDetails[\"km_driven\"].median()\n",
    "q1_km = bikeDetails[\"km_driven\"].quantile(q = [0.25])\n",
    "q3_km = bikeDetails[\"km_driven\"].quantile(q = [0.75])\n",
    "IQR_km = q3_km[0.75] - q1_km[0.25]\n",
    "print(\"The meidian of km_driven is\", median_km)\n",
    "print(\"The first quartile of km_driven is\", q1_km)\n",
    "print(\"The third quartile of km_driven is\", q3_km)\n",
    "print(\"The IQR of km_driven is\", IQR_km)"
   ]
  },
  {
   "cell_type": "markdown",
   "id": "6cdd89c4-8e4d-49ab-aa9e-b7c24ec3fe97",
   "metadata": {},
   "source": [
    "## <font color=\"red\">Correlation between</font> <font color=\"Green\"><i>selling_price</i></font> <font color=\"red\">and</font> <font color=\"Green\"><i>km_driven</i></font>"
   ]
  },
  {
   "cell_type": "code",
   "execution_count": 10,
   "id": "c9c4cd0f-96d1-4f2a-b25c-72ed481bbe0f",
   "metadata": {},
   "outputs": [
    {
     "data": {
      "text/html": [
       "<div>\n",
       "<style scoped>\n",
       "    .dataframe tbody tr th:only-of-type {\n",
       "        vertical-align: middle;\n",
       "    }\n",
       "\n",
       "    .dataframe tbody tr th {\n",
       "        vertical-align: top;\n",
       "    }\n",
       "\n",
       "    .dataframe thead th {\n",
       "        text-align: right;\n",
       "    }\n",
       "</style>\n",
       "<table border=\"1\" class=\"dataframe\">\n",
       "  <thead>\n",
       "    <tr style=\"text-align: right;\">\n",
       "      <th></th>\n",
       "      <th>selling_price</th>\n",
       "      <th>km_driven</th>\n",
       "    </tr>\n",
       "  </thead>\n",
       "  <tbody>\n",
       "    <tr>\n",
       "      <th>selling_price</th>\n",
       "      <td>1.000000</td>\n",
       "      <td>-0.212937</td>\n",
       "    </tr>\n",
       "    <tr>\n",
       "      <th>km_driven</th>\n",
       "      <td>-0.212937</td>\n",
       "      <td>1.000000</td>\n",
       "    </tr>\n",
       "  </tbody>\n",
       "</table>\n",
       "</div>"
      ],
      "text/plain": [
       "               selling_price  km_driven\n",
       "selling_price       1.000000  -0.212937\n",
       "km_driven          -0.212937   1.000000"
      ]
     },
     "execution_count": 10,
     "metadata": {},
     "output_type": "execute_result"
    }
   ],
   "source": [
    "### Correlation Matrix\n",
    "bikeDetails[[\"selling_price\", \"km_driven\"]].corr()"
   ]
  },
  {
   "cell_type": "code",
   "execution_count": 8,
   "id": "f6bff74e-ddc5-4348-9dbf-5d2aab96eb42",
   "metadata": {},
   "outputs": [
    {
     "data": {
      "text/plain": [
       "(-0.2129367071445366, 2.411679611918878e-12)"
      ]
     },
     "execution_count": 8,
     "metadata": {},
     "output_type": "execute_result"
    }
   ],
   "source": [
    "### Pearson correlation\n",
    "stat. pearsonr(bikeDetails.selling_price, bikeDetails.km_driven)\n",
    "### the P value is smaller than 0.05, and the correlation coefficient is -0.2129, significate negative correlation."
   ]
  },
  {
   "cell_type": "markdown",
   "id": "3794418b-d75a-4bd7-9aa4-958efe998bdf",
   "metadata": {},
   "source": [
    "## <font color=\"red\">Linear Regression Model of</font> <font color=\"Green\"><i>selling_price</i></font> <font color=\"red\">and</font> <font color=\"Green\"><i>km_driven</i></font>"
   ]
  },
  {
   "cell_type": "code",
   "execution_count": 23,
   "id": "843cd03a-8c18-45ff-bb3a-d00043c4ae27",
   "metadata": {},
   "outputs": [
    {
     "name": "stdout",
     "output_type": "stream",
     "text": [
      "b0 =  [67618.07212024] \n",
      "b1 =  [[-0.23224561]]\n"
     ]
    }
   ],
   "source": [
    "x=bikeDetails.km_driven.values.reshape(-1, 1)\n",
    "y=bikeDetails.selling_price.values.reshape(-1, 1)\n",
    "#print(x)\n",
    "#print(y)\n",
    "model = LinearRegression().fit(x, y)\n",
    "print(\"b0 = \", model.intercept_, \"\\nb1 = \", model.coef_)"
   ]
  },
  {
   "cell_type": "markdown",
   "id": "262b6e5e-4578-4bdf-96a5-c53c9c662b0a",
   "metadata": {},
   "source": [
    "## <font color=\"red\">Subset the data for 100 times and get 100 Linear Regression Models of</font> <font color=\"Green\"><i>selling_price</i></font> <font color=\"red\">and</font> <font color=\"Green\"><i>km_driven</i></font><font color=\"red\">, return b0 and b1 lists</font>"
   ]
  },
  {
   "cell_type": "code",
   "execution_count": 37,
   "id": "34f1e2ab-35cd-4e33-ad6a-a2c87373d882",
   "metadata": {},
   "outputs": [
    {
     "name": "stdout",
     "output_type": "stream",
     "text": [
      "[[60227.77608004785], [63936.354798327615], [49709.15951940609], [64275.674685908794], [61384.48487808885], [47129.16422413275], [69541.83446787132], [65589.1543569351], [67004.57424958059], [50783.96299612287], [57980.06593849559], [59183.44333516728], [66027.96838847312], [63183.25715078059], [56227.501024847246], [60877.30180109996], [54902.73958026637], [67368.08395073665], [63874.03212806322], [57525.693527869014], [56363.33774566687], [55809.910372966886], [52136.48907197542], [58216.64081237051], [56545.20802633304], [62996.781375902574], [55970.9983337863], [60731.725536016354], [73481.7127016719], [59500.592198139166], [65470.96438872952], [63496.157618913945], [76543.33934399905], [68540.07024296664], [70826.94963032992], [67826.85323739554], [53207.390199690846], [74705.81803695155], [57898.837303714536], [56599.80442131395], [55787.201866045645], [66122.05495417867], [58009.3483743592], [55493.38917632207], [62376.97710908326], [58536.85865963971], [53996.113616364324], [52124.78585373578], [68310.81468842161], [69878.08121358194], [53745.740592610266], [63053.58248711022], [45670.385847187616], [55358.5233902507], [71780.40281209866], [59258.788602966546], [58192.53625544578], [55294.904914961764], [52454.14997842284], [38046.84499521469], [60737.427542208374], [54914.408249818196], [61536.07086150359], [55778.810435940286], [56191.631880406676], [61992.242064345905], [61133.74547123041], [48053.24076382918], [67205.20204830509], [61940.284638418525], [67551.44287028666], [69558.98186015993], [54449.876056904955], [58619.910638878755], [59790.19028913698], [53554.71225841659], [67901.49219430382], [81922.59213855163], [52428.95674862371], [66840.32212693286], [70660.78958835706], [53873.295756584455], [59096.62312741398], [65316.37825436246], [47972.571070082435], [61136.97835411521], [56747.65020085522], [56951.09459361764], [55785.846942966265], [50282.79876460486], [63062.003714029335], [58301.09566051169], [55849.557786902995], [67310.29906519743], [60007.74938274971], [57886.77272901326], [62529.658810604415], [57099.41427191013], [61136.66007805683], [65421.67939258225]]\n",
      "[[[-0.020860473856386782]], [[0.09533814194242854]], [[-0.011776332316755652]], [[-0.009105870971512858]], [[-0.07951065746391667]], [[0.2743116439832443]], [[-0.14908277869239273]], [[-0.17673956026235618]], [[-0.0242382654115339]], [[0.15217102957510706]], [[-0.010853968826517188]], [[-0.049850880089114175]], [[-0.007634064757272071]], [[-0.12501200152377726]], [[-0.013642359328971275]], [[0.14921083277546632]], [[-0.2051170084562284]], [[-0.04881848381561185]], [[-0.06516191582665468]], [[-0.10162520248610418]], [[0.04160478179332035]], [[-0.09600584385384708]], [[0.01985009304401259]], [[-0.07920851708926223]], [[0.02789093243234953]], [[-0.28493809767571593]], [[0.21114240208730603]], [[-0.255283614540909]], [[-0.04442592101359032]], [[0.1109413222063804]], [[-0.25160567993980204]], [[0.08432248788449619]], [[-0.10362521966221139]], [[-0.043032125823795404]], [[-0.2669236222740744]], [[-0.13383913289159938]], [[0.09595787705557499]], [[-0.3079314790821115]], [[-0.06306159693331233]], [[-0.07727150489333277]], [[-0.024032164981591986]], [[0.20129803334988292]], [[-0.09305162666486494]], [[0.09425980439483407]], [[-0.12178324853299331]], [[-0.05183868728330334]], [[0.03781322693122737]], [[0.13893641092608605]], [[-0.1156469794782469]], [[-0.2666915150691023]], [[0.0014345638025846138]], [[0.020753159137714555]], [[0.5534612644998373]], [[-0.055792248799789224]], [[-0.2902035083212895]], [[0.018580284154116486]], [[-0.04190318962974319]], [[0.02570835153466163]], [[0.018958475503537766]], [[1.0588157086129921]], [[0.09039899428627493]], [[-0.04170862495021039]], [[-0.13458517777181425]], [[-0.015197282347110614]], [[-0.08735024055967586]], [[-0.122419823726048]], [[-0.031009071958863852]], [[0.2945851347504315]], [[-0.10600498402080033]], [[-0.02890537763476891]], [[-0.0898768818621037]], [[-0.28498772698851627]], [[0.12573096417231672]], [[-0.06375640173762531]], [[-0.024236635335678162]], [[0.2040173187203344]], [[-0.22641230898005732]], [[-0.5240299597936237]], [[0.20101902862600593]], [[-0.025593759605199665]], [[-0.30967855746386724]], [[-0.012616694599735226]], [[0.07183259068732537]], [[-0.08151302149283861]], [[0.18622687963876317]], [[-0.057279443349689964]], [[-0.07609764726041697]], [[-0.03712718431625625]], [[0.1048055567122938]], [[0.007789637851732079]], [[-0.07079841688863767]], [[0.030061346044908743]], [[-0.16821430599773765]], [[-0.048349223856673014]], [[0.12100271993163947]], [[-0.042631485220471665]], [[-0.05376833239648858]], [[-0.01759826285211183]], [[0.03066506970786273]], [[-0.21577159730190032]]]\n"
     ]
    }
   ],
   "source": [
    "b0 = []\n",
    "b1 = []\n",
    "for i in range (0, 100):\n",
    "    x = bikeDetails.km_driven.sample(n=100).values.reshape(-1, 1)\n",
    "    y = bikeDetails.selling_price.sample(n=100).values.reshape(-1, 1)\n",
    "    #print(x)\n",
    "    #print(y)\n",
    "    model = LinearRegression().fit(x, y)\n",
    "    b0_now = model.intercept_.tolist()\n",
    "    b1_now = model.coef_.tolist()\n",
    "    b0.append(b0_now)\n",
    "    b1.append(b1_now)\n",
    "print(b0)\n",
    "print(b1)"
   ]
  },
  {
   "cell_type": "markdown",
   "id": "409d8501-43a7-423b-9d66-b4ed72c2464e",
   "metadata": {},
   "source": [
    "## <font color=\"red\">Plots of</font> <font color=\"Green\"><i>selling_price</i></font> <font color=\"red\">and</font> <font color=\"Green\"><i>km_driven</i></font>"
   ]
  },
  {
   "cell_type": "code",
   "execution_count": 12,
   "id": "615ca01c-9c11-44d5-9f2e-3f51b12556c7",
   "metadata": {},
   "outputs": [
    {
     "data": {
      "image/png": "[encoded data removed]",
      "text/plain": [
       "<Figure size 1440x1440 with 1 Axes>"
      ]
     },
     "metadata": {
      "needs_background": "light"
     },
     "output_type": "display_data"
    }
   ],
   "source": [
    "### Histogram for selling_price\n",
    "fig, ax = plt.subplots(figsize=(20,20))\n",
    "n, bins, patches=plt.hist(bikeDetails[\"selling_price\"], bins=20, alpha = 0.5)\n",
    "plt.ylabel(\"Price Frequency\")\n",
    "plt.xlabel(\"Selling Price\")\n",
    "plt.xticks(bins)\n",
    "plt.title(\"Selling Price distribution\")\n",
    "plt.show()\n",
    "plt.close()"
   ]
  },
  {
   "cell_type": "code",
   "execution_count": 13,
   "id": "6303e4eb-5b45-4ddb-9953-7dc0d7ede23b",
   "metadata": {},
   "outputs": [
    {
     "data": {
      "image/png": "[encoded data removed]",
      "text/plain": [
       "<Figure size 1440x1440 with 1 Axes>"
      ]
     },
     "metadata": {
      "needs_background": "light"
     },
     "output_type": "display_data"
    }
   ],
   "source": [
    "### Histogram for kw_driven\n",
    "fig, ax = plt.subplots(figsize=(20,20))\n",
    "n, bins, patches=plt.hist(bikeDetails[\"km_driven\"], bins=20, alpha = 0.5)\n",
    "plt.ylabel(\"KW Frequency\")\n",
    "plt.xlabel(\"KW Driven\")\n",
    "plt.xticks(bins)\n",
    "plt.title(\"KW Driven distribution\")\n",
    "plt.show()\n",
    "plt.close()"
   ]
  },
  {
   "cell_type": "code",
   "execution_count": 42,
   "id": "e1ce2289-63ff-4f21-b5ee-52264d5ca874",
   "metadata": {},
   "outputs": [
    {
     "data": {
      "text/plain": [
       "{'whiskers': [<matplotlib.lines.Line2D at 0x26d9ca66dd0>,\n",
       "  <matplotlib.lines.Line2D at 0x26da0db8460>],\n",
       " 'caps': [<matplotlib.lines.Line2D at 0x26da0dbb8b0>,\n",
       "  <matplotlib.lines.Line2D at 0x26da0dba470>],\n",
       " 'boxes': [<matplotlib.lines.Line2D at 0x26da0dabdf0>],\n",
       " 'medians': [<matplotlib.lines.Line2D at 0x26da0db92a0>],\n",
       " 'fliers': [<matplotlib.lines.Line2D at 0x26da0db99c0>],\n",
       " 'means': []}"
      ]
     },
     "execution_count": 42,
     "metadata": {},
     "output_type": "execute_result"
    },
    {
     "data": {
      "image/png": "[encoded data removed]",
      "text/plain": [
       "<Figure size 432x288 with 1 Axes>"
      ]
     },
     "metadata": {
      "needs_background": "light"
     },
     "output_type": "display_data"
    }
   ],
   "source": [
    "### boxplot of selling_price\n",
    "plt.boxplot(bikeDetails.selling_price)"
   ]
  },
  {
   "cell_type": "code",
   "execution_count": 14,
   "id": "2dc25c0f-3a31-4d75-b30e-a76cb77d9055",
   "metadata": {},
   "outputs": [
    {
     "data": {
      "text/plain": [
       "{'whiskers': [<matplotlib.lines.Line2D at 0x24e5b0d7610>,\n",
       "  <matplotlib.lines.Line2D at 0x24e5b0d7e20>],\n",
       " 'caps': [<matplotlib.lines.Line2D at 0x24e5b0d7b50>,\n",
       "  <matplotlib.lines.Line2D at 0x24e5b0c9280>],\n",
       " 'boxes': [<matplotlib.lines.Line2D at 0x24e5b0d76a0>],\n",
       " 'medians': [<matplotlib.lines.Line2D at 0x24e5b0c9490>],\n",
       " 'fliers': [<matplotlib.lines.Line2D at 0x24e5b0c9640>],\n",
       " 'means': []}"
      ]
     },
     "execution_count": 14,
     "metadata": {},
     "output_type": "execute_result"
    },
    {
     "data": {
      "image/png": "[encoded data removed]",
      "text/plain": [
       "<Figure size 432x288 with 1 Axes>"
      ]
     },
     "metadata": {
      "needs_background": "light"
     },
     "output_type": "display_data"
    }
   ],
   "source": [
    "### boxplot of km_driven\n",
    "plt.boxplot(bikeDetails.km_driven)"
   ]
  },
  {
   "cell_type": "markdown",
   "id": "39f56cfd-8c7e-4010-9db5-eb53ac0ed85d",
   "metadata": {},
   "source": [
    "We see a lot of outliers in our `Km_driven` variable meaning that it will likely be a sub-par variable in our predictive function."
   ]
  },
  {
   "cell_type": "code",
   "execution_count": 15,
   "id": "5211ac13-f41d-4a0b-a0c9-5f47c9b86864",
   "metadata": {},
   "outputs": [
    {
     "data": {
      "image/png": "[encoded data removed]",
      "text/plain": [
       "<Figure size 432x432 with 1 Axes>"
      ]
     },
     "metadata": {
      "needs_background": "light"
     },
     "output_type": "display_data"
    }
   ],
   "source": [
    "# Kernel density for selling_price #\n",
    "fig, ax = plt.subplots(figsize=(6,6))\n",
    "bikeDetails[\"selling_price\"].plot.density(bw_method = 0.5, label = \"BW = 0.5\", ax=ax)\n",
    "plt.ylabel(\"Density\")\n",
    "plt.xlabel(\"Selling Price\")\n",
    "plt.title(\"Selling Price Density\")\n",
    "plt.legend()\n",
    "plt.show()\n",
    "plt.close()"
   ]
  },
  {
   "cell_type": "code",
   "execution_count": 16,
   "id": "d2ef52c1-49e3-4b87-aecd-bc4fc5904419",
   "metadata": {},
   "outputs": [
    {
     "data": {
      "image/png": "[encoded data removed]",
      "text/plain": [
       "<Figure size 432x432 with 1 Axes>"
      ]
     },
     "metadata": {
      "needs_background": "light"
     },
     "output_type": "display_data"
    }
   ],
   "source": [
    "# Kernel density for kw_driven #\n",
    "fig, ax = plt.subplots(figsize=(6,6))\n",
    "bikeDetails[\"km_driven\"].plot.density(bw_method = 0.5, label = \"BW = 0.5\", ax=ax)\n",
    "plt.ylabel(\"Density\")\n",
    "plt.xlabel(\"KM Driven\")\n",
    "plt.title(\"KM Driven Density\")\n",
    "plt.legend()\n",
    "plt.show()\n",
    "plt.close()"
   ]
  },
  {
   "cell_type": "code",
   "execution_count": 17,
   "id": "5a460bf8-96a4-4426-83da-c90f3d7ddf06",
   "metadata": {},
   "outputs": [
    {
     "data": {
      "image/png": "[encoded data removed]",
      "text/plain": [
       "<Figure size 432x432 with 1 Axes>"
      ]
     },
     "metadata": {
      "needs_background": "light"
     },
     "output_type": "display_data"
    }
   ],
   "source": [
    "# Selling_price vs KM_Driven Scatterplot #\n",
    "fig, ax = plt.subplots(figsize=(6,6))\n",
    "bikeDetails.plot.scatter (x= \"selling_price\", y=\"km_driven\", cmap = \"plasma\", ax=ax)\n",
    "plt.xlabel(\"Selling Price\")\n",
    "plt.ylabel(\"KM Driven\")\n",
    "plt.title(\"Selling Price vs KM Driven Scatterplot\")\n",
    "plt.show()\n",
    "plt.close()"
   ]
  },
  {
   "cell_type": "markdown",
   "id": "f1e957f9-f841-42fe-8a95-f442e7091771",
   "metadata": {},
   "source": [
    "## <font color=\"red\">Contingency Table and Bar Chart of</font> <font color=\"Green\"><i>year</i></font> <font color=\"red\">and</font> <font color=\"Green\"><i>owner</i></font>"
   ]
  },
  {
   "cell_type": "code",
   "execution_count": 18,
   "id": "6b92f001-5ac7-4d13-9e4b-ef0664827b01",
   "metadata": {},
   "outputs": [
    {
     "name": "stdout",
     "output_type": "stream",
     "text": [
      "owner  1st owner  2nd owner  3rd owner  4th owner\n",
      "year                                             \n",
      "1988           1          0          0          0\n",
      "1991           1          0          0          0\n",
      "1993           0          1          0          0\n",
      "1995           0          0          1          0\n",
      "1997           2          0          0          0\n",
      "1998           2          0          1          0\n",
      "1999           0          1          0          0\n",
      "2000           4          0          1          1\n",
      "2001           1          1          0          0\n",
      "2002           1          2          0          0\n",
      "2003           1          0          0          0\n",
      "2004           4          1          0          0\n",
      "2005          11          3          0          0\n",
      "2006          17          3          0          0\n",
      "2007          24          5          0          0\n",
      "2008          21          5          2          0\n",
      "2009          21          5          1          1\n",
      "2010          50         10          0          0\n",
      "2011          50         10          1          0\n",
      "2012          56         13          1          0\n",
      "2013          66          6          1          0\n",
      "2014          75         15          0          1\n",
      "2015          83         16          1          0\n",
      "2016          95         12          0          0\n",
      "2017         122         10          1          0\n",
      "2018         128          3          0          0\n",
      "2019          85          1          0          0\n",
      "2020           3          0          0          0\n"
     ]
    }
   ],
   "source": [
    "### Contingency table\n",
    "bikeDetails.owner = bikeDetails.owner.astype(\"category\")\n",
    "bikeDetails.year = bikeDetails.year.astype(\"category\")\n",
    "bikeDetails.year [0:4]\n",
    "table = pd.crosstab(bikeDetails.year, bikeDetails.owner)\n",
    "print(table)"
   ]
  },
  {
   "cell_type": "code",
   "execution_count": 19,
   "id": "02eccf06-f9e1-4157-a7d2-e26e46fd3139",
   "metadata": {},
   "outputs": [
    {
     "data": {
      "image/png": "[encoded data removed]",
      "text/plain": [
       "<Figure size 1440x1440 with 1 Axes>"
      ]
     },
     "metadata": {
      "needs_background": "light"
     },
     "output_type": "display_data"
    }
   ],
   "source": [
    "### Bar chart\n",
    "fig, ax = plt.subplots(figsize=(20,20))\n",
    "table.plot.bar(ax=ax)\n",
    "plt.xlabel(\"Motorcycle Year\")\n",
    "plt.ylabel(\"Frequency\")\n",
    "plt.title(\"Motorcycle Year vs Owner Type Distribution\")\n",
    "plt.xticks(rotation = 0)\n",
    "plt.show()\n",
    "plt.close()"
   ]
  },
  {
   "cell_type": "markdown",
   "id": "634212fd-a26b-4522-8348-777e60ebbc94",
   "metadata": {},
   "source": [
    "# Loss Function\n",
    "\n",
    "  We start of our analysis with a Loss Function which will help us understand the quality of our methods below. This is done by measuring the Root Mean Square Error (RMSE) which indicates how \"off\" we were in our model. \n",
    "  \n",
    "  RMSE = $\\sqrt{\\frac{1}{n}\\sum_{i=1}^n{L(y_i,c)}} = \\sqrt{\\frac{1}{n}\\sum_{i=1}^n{(y_i - c)^2}}$\n",
    "  \n",
    "For this equation to work we want to find the value for c that minimizes the RMSE meaning we have the least amount of \"Loss\" in our equation."
   ]
  },
  {
   "cell_type": "markdown",
   "id": "f132387b-04ba-4117-a742-a3472f8b47da",
   "metadata": {},
   "source": [
    "# <font color=\"Red\"><b>Methods One A</b></font>\n",
    "## <font color=\"Green\">Grid Search of using just the y′s</font>"
   ]
  },
  {
   "cell_type": "code",
   "execution_count": 47,
   "id": "385b032b-e9d0-4bee-a5d6-7e34d776aabf",
   "metadata": {},
   "outputs": [],
   "source": [
    "### Find a grid of values using selling_price' mean and standard deviation\n",
    "np.random.seed(123)\n",
    "grid_c = np.random.normal(59638.151744, 56304.291973, 10000)"
   ]
  },
  {
   "cell_type": "code",
   "execution_count": 48,
   "id": "98698641-6ec5-4260-a89f-a6ea8b304461",
   "metadata": {
    "tags": []
   },
   "outputs": [
    {
     "data": {
      "text/plain": [
       "10000"
      ]
     },
     "execution_count": 48,
     "metadata": {},
     "output_type": "execute_result"
    }
   ],
   "source": [
    "### convert grid array to series\n",
    "grid_c1 = pd.Series(grid_c)\n",
    "len(grid_c1)"
   ]
  },
  {
   "cell_type": "code",
   "execution_count": 49,
   "id": "10e3742a-77d4-4953-a63d-076ee3323bc0",
   "metadata": {},
   "outputs": [],
   "source": [
    "### Create a RMSE Algorithm\n",
    "def find_best_c(y, x):\n",
    "    \"\"\"\n",
    "    Calculate RMSE from all the c and append them into a list, find the minimal RMSE and return the corresponding c value\n",
    "    \"\"\"\n",
    "    c_rmse = []\n",
    "    for i in range(0, len(x)):\n",
    "        rmse = np.sqrt(sum((y - x[i])**2)/len(y))\n",
    "        c_rmse.append(rmse)\n",
    "    min_rmse = min(c_rmse)\n",
    "    min_loc = c_rmse.index(min_rmse)\n",
    "    optimal_c = x[min_loc]\n",
    "    return print(\"The Min RMSE is =\", min_rmse,\"\\nThe min loc is =\", min_loc,\"\\nThe optimal value for c is = \", optimal_c)"
   ]
  },
  {
   "cell_type": "markdown",
   "id": "97940ea2-88bb-4ae4-9652-8b19eb6c2da2",
   "metadata": {},
   "source": [
    "We will utilize a grid of selling prices to predict the `selling_price`. We do this by creating a grid of variables that are centered around the distribution of `Selling_price` as seen in the EDA part of our code.  "
   ]
  },
  {
   "cell_type": "code",
   "execution_count": 50,
   "id": "2539b6eb-9e2d-4206-b43f-019a6f0b9fd3",
   "metadata": {
    "tags": []
   },
   "outputs": [
    {
     "name": "stdout",
     "output_type": "stream",
     "text": [
      "The Min RMSE is = 56277.752282119494 \n",
      "The min loc is = 799 \n",
      "The optimal value for c is =  59633.89927166418\n"
     ]
    }
   ],
   "source": [
    "find_best_c(bikeDetails.selling_price,grid_c1)"
   ]
  },
  {
   "cell_type": "code",
   "execution_count": 51,
   "id": "04cf5994-4706-4e64-9ca4-dc55d9ba555e",
   "metadata": {},
   "outputs": [
    {
     "name": "stdout",
     "output_type": "stream",
     "text": [
      "The price mean is =  59638.151743638075 \n",
      "While the rmse_test gives us a value of = 56277.752282119494\n",
      "The difference seems to be  4.252471973893989\n"
     ]
    }
   ],
   "source": [
    "### Verification, change the float in rmse_test equation to the third number returned by \"find_best_c\" funtion\n",
    "price_mean = bikeDetails.selling_price.mean()\n",
    "rmse_test = np.sqrt(sum((bikeDetails.selling_price -59633.89927166418)**2)/len(bikeDetails.selling_price))\n",
    "print(\"The price mean is = \", price_mean,\"\\nWhile the rmse_test gives us a value of =\", rmse_test)\n",
    "print(\"The difference seems to be \",(price_mean - 59633.89927166418))"
   ]
  },
  {
   "cell_type": "markdown",
   "id": "4d6c35ba-aab8-4ed8-869a-2292cd72661f",
   "metadata": {},
   "source": [
    "We see that our model works best when the `selling_price` is around 59K. This makes perfect sense since our `selling_price` variable is centered there. Our lowest RMSE is around 56K meaning we don't have a great model as the standard deviation of our model seems to be fairly large."
   ]
  },
  {
   "cell_type": "markdown",
   "id": "ef980607-1171-49d7-9ce1-1dc048464667",
   "metadata": {},
   "source": [
    "## <font color=\"Green\">Run the function using km_driven</font>"
   ]
  },
  {
   "cell_type": "code",
   "execution_count": 52,
   "id": "31a3ab5c-247b-4e02-aaee-8e0716b7a198",
   "metadata": {},
   "outputs": [],
   "source": [
    "### Find a grid of values using km_driven' mean and standard deviation\n",
    "np.random.seed(123)\n",
    "grid_ck = np.random.normal(34359.833176, 51623.152702, 10000)"
   ]
  },
  {
   "cell_type": "code",
   "execution_count": 53,
   "id": "89cb306b-244a-4917-8d63-864999a13ca0",
   "metadata": {
    "tags": []
   },
   "outputs": [
    {
     "data": {
      "text/plain": [
       "10000"
      ]
     },
     "execution_count": 53,
     "metadata": {},
     "output_type": "execute_result"
    }
   ],
   "source": [
    "### convert grid array to series\n",
    "grid_ck1 = pd.Series(grid_ck)\n",
    "len(grid_ck1)"
   ]
  },
  {
   "cell_type": "code",
   "execution_count": 54,
   "id": "3c00963a-0cd8-4221-a529-75829914f60e",
   "metadata": {},
   "outputs": [
    {
     "name": "stdout",
     "output_type": "stream",
     "text": [
      "The Min RMSE is = 51598.81952079937 \n",
      "The min loc is = 799 \n",
      "The optimal value for c is =  34355.934254247135\n"
     ]
    }
   ],
   "source": [
    "find_best_c(bikeDetails.km_driven, grid_ck1)"
   ]
  },
  {
   "cell_type": "markdown",
   "id": "111d565b-62d2-4506-8bac-13e926fca696",
   "metadata": {},
   "source": [
    "# <font color=\"Red\"><b>Methods One B</b></font>\n",
    "## <font color=\"Green\">Grid Search of using linear regression model</font>"
   ]
  },
  {
   "cell_type": "code",
   "execution_count": 82,
   "id": "77018e20-e105-4e4d-ad27-30c70aeba7ef",
   "metadata": {},
   "outputs": [],
   "source": [
    "### Create a RMSE Algorithm accounting for KM_driven \n",
    "### Return the b0 b1 pairs that has the minimal RMSE\n",
    "\n",
    "def find_best_c_with_var(y, x, coeff1, coeff2):\n",
    "    \"\"\"\n",
    "    Calculate RMSE from all the linear regression model and append them into a list, \n",
    "    find the minimal RMSE and return the corresponding b0 and b1.\n",
    "    \"\"\"\n",
    "    c_rmse = []\n",
    "    \n",
    "    for k in range(0, len(coeff1)):\n",
    "                y_hat = coeff1[k][0] + coeff2[k][0][0]*x\n",
    "                rmse = np.sqrt(sum((y - y_hat)**2)/len(y))\n",
    "                c_rmse.append(rmse)\n",
    "                \n",
    "    min_rmse = min(c_rmse)\n",
    "    min_loc = c_rmse.index(min_rmse)\n",
    "    optimal_b0 = coeff1[min_loc][0]\n",
    "    optimal_b1 = coeff2[min_loc][0][0]\n",
    "    \n",
    "    \n",
    "### Use best combination of b0 and b1 to predict the selling_price for km_driven of 10000, 25000, 35000 ###\n",
    "\n",
    "\n",
    "    selling1 = optimal_b0 + optimal_b1*10000\n",
    "    selling2 = optimal_b0 + optimal_b1*25000\n",
    "    selling3 = optimal_b0 + optimal_b1*35000\n",
    "    return print(\"The Min RMSE is =\", min_rmse,\"\\nThe optimal b0 is\", \n",
    "                 optimal_b0, \"\\nThe optimal b1 is\", optimal_b1,\\\n",
    "                \"\\nThe predicted selling price with km_driven = 10000 is\", selling1,\\\n",
    "                \"\\nThe predicted selling price with km_driven = 25000 is\", selling2,\\\n",
    "                \"\\nThe predicted selling price with km_driven = 35000 is\", selling3)"
   ]
  },
  {
   "cell_type": "markdown",
   "id": "589ab3d5-77b1-417c-afdd-f1fdc4f3dc34",
   "metadata": {},
   "source": [
    "We generated 100 pairs of b0 and b1 in EDA by randomly creating 100 subsets with 100 sample size from the bikeDetail data frame and building 100 regression models."
   ]
  },
  {
   "cell_type": "code",
   "execution_count": 83,
   "id": "513ae3c6-182e-499f-ad4f-4e1601e6a26c",
   "metadata": {},
   "outputs": [
    {
     "name": "stdout",
     "output_type": "stream",
     "text": [
      "The Min RMSE is = 54990.03038193449 \n",
      "The optimal b0 is 67901.49219430382 \n",
      "The optimal b1 is -0.22641230898005732 \n",
      "The predicted selling price with km_driven = 10000 is 65637.36910450325 \n",
      "The predicted selling price with km_driven = 25000 is 62241.184469802385 \n",
      "The predicted selling price with km_driven = 35000 is 59977.06138000182\n"
     ]
    }
   ],
   "source": [
    "find_best_c_with_var (bikeDetails.selling_price, bikeDetails.km_driven, b0, b1)"
   ]
  },
  {
   "cell_type": "markdown",
   "id": "36187d50-ffb5-4131-b0d0-b18b8b90a24d",
   "metadata": {},
   "source": [
    "We see that our model works best when b0 = 67901 and b1 = -0.2264 with the RMSE around 55K. It is lower than the EMSE from using only selling_price to generate grid of c, the linear regression model predicts c better."
   ]
  },
  {
   "cell_type": "markdown",
   "id": "c87b4f5c-0d8a-4ae6-b7f8-4b224cb2887a",
   "metadata": {},
   "source": [
    "# <font color=\"Red\"><b>Methods Two A</b></font>\n",
    "## <font color=\"Green\">Gradient Descent of using just the y′s</font>"
   ]
  },
  {
   "cell_type": "code",
   "execution_count": 102,
   "id": "350a1914-a27a-45f8-819e-e4e36b79aa9a",
   "metadata": {},
   "outputs": [],
   "source": [
    "### Creat a Gradient Descent Algorithm\n",
    "def find_best_c_g(var, step_size, starting_point, rounds):\n",
    "    \"\"\"\n",
    "    Pick initial c and initial delta, create new c value based on the slop and step size, \n",
    "    loop through untill either the absolute difference between new c and cur c are smaller than 0.08 or reach the maximum iteration \n",
    "    \"\"\"\n",
    "    cur_c = starting_point\n",
    "    cur_c_rmse = np.sqrt(sum((var - cur_c)**2)/len(var))\n",
    "    delta_rmse = np.sqrt(sum((var - (cur_c + 0.005))**2)/len(var))\n",
    "    slop = (delta_rmse - cur_c_rmse)/0.005\n",
    "    c = []\n",
    "    for i in range(0, rounds):\n",
    "        new_c = cur_c - slop*step_size\n",
    "        c.append(new_c)\n",
    "        c_length = len(c) ###see how many iteration\n",
    "        if abs(new_c - cur_c) >= 0.08:\n",
    "            new_c_rmse = np.sqrt(sum((var - new_c)**2)/len(var))\n",
    "            cur_c_rmse = np.sqrt(sum((var - cur_c)**2)/len(var))\n",
    "            delta = new_c - cur_c\n",
    "            slop = (new_c_rmse - cur_c_rmse)/delta\n",
    "            cur_c = new_c\n",
    "        else:\n",
    "            cur_c = new_c\n",
    "            break\n",
    "    return print (\"\\nThe optimal value for c is = \", cur_c, \"\\nIteration Times:\", c_length)"
   ]
  },
  {
   "cell_type": "code",
   "execution_count": 103,
   "id": "5974218e-c7fe-4f0c-9a9a-53649da8a856",
   "metadata": {},
   "outputs": [
    {
     "name": "stdout",
     "output_type": "stream",
     "text": [
      "\n",
      "The optimal value for c is =  50516.353900290196 \n",
      "Iteration Times: 6283\n"
     ]
    }
   ],
   "source": [
    "find_best_c_g(bikeDetails.selling_price, 0.5, 50000, 10000)"
   ]
  },
  {
   "cell_type": "markdown",
   "id": "d5ad6d0c-e15e-442e-b9c3-288f691d01aa",
   "metadata": {},
   "source": [
    "## <font color=\"Green\">Run the function using km_driven</font>"
   ]
  },
  {
   "cell_type": "code",
   "execution_count": 101,
   "id": "0a7fff7f-7794-4102-9c01-73062fc08d2d",
   "metadata": {},
   "outputs": [
    {
     "data": {
      "text/plain": [
       "(30000.04209740073, 1)"
      ]
     },
     "execution_count": 101,
     "metadata": {},
     "output_type": "execute_result"
    }
   ],
   "source": [
    "find_best_c_g(bikeDetails.km_driven, 0.5, 30000, 10000)"
   ]
  },
  {
   "cell_type": "markdown",
   "id": "531a40cf-2c80-4c56-9436-62bc37bf6c4a",
   "metadata": {},
   "source": [
    "# <font color=\"Red\"><b>Methods Two B</b></font>\n",
    "## <font color=\"Green\">Gradient Descent of using linear regression model</font>"
   ]
  },
  {
   "cell_type": "code",
   "execution_count": 87,
   "id": "74ea0063-07ea-45a2-be31-5ca38ce62ce0",
   "metadata": {},
   "outputs": [],
   "source": [
    "### Creat a Gradient Descent Algorithm accounting for KM_driven\n",
    "def find_best_c_g_var(var1, var2, step_size1, step_size2, starting_point1, starting_point2, rounds):\n",
    "    \"\"\"\n",
    "    Pick initial b0, b1 and their initial delta, create new b0 and b1 value based on the slop and step size, \n",
    "    loop through untill either the euclidean distance is smaller than 50 or reach the maximum iteration \n",
    "    \"\"\"\n",
    "    cur_b0 = starting_point1\n",
    "    cur_b1 = starting_point2\n",
    "    \n",
    "    y_hat = cur_b0 + cur_b1*var1\n",
    "    cur_b_rmse = np.sqrt(sum((var2 - y_hat)**2)/len(var2))\n",
    "    \n",
    "    delta_b0_hat = (cur_b0+0.005) + cur_b1*var1\n",
    "    delta_b0_rmse = np.sqrt(sum((var2 - delta_b0_hat)**2)/len(var2))\n",
    "    slop_b0 = (delta_b0_rmse - cur_b_rmse)/0.005\n",
    "    \n",
    "    delta_b1_hat = cur_b0 + (cur_b1+0.005)*var1\n",
    "    delta_b1_rmse = np.sqrt(sum((var2 - delta_b1_hat)**2)/len(var2))\n",
    "    slop_b1 = (delta_b1_rmse - cur_b_rmse)/0.005\n",
    "    \n",
    "    b0_list = []\n",
    "    b1_list = []\n",
    "    distance = []\n",
    "    for i in range(0, rounds):\n",
    "        new_b0 = cur_b0 - slop_b0*step_size1\n",
    "        new_b1 = cur_b1 - slop_b1*step_size2\n",
    "        \n",
    "        b0_list.append(new_b0)\n",
    "        b1_list.append(new_b1)\n",
    "        b_length = len(b0_list) ###see how many iteration\n",
    "        dis = np.sqrt((cur_b0 - new_b0)**2 + (cur_b1 - new_b1)**2)\n",
    "        distance.append(dis)\n",
    "        if dis >= 0.04072:\n",
    "            y_hat = cur_b0 + cur_b1*var1\n",
    "            cur_b_rmse = np.sqrt(sum((var2 - y_hat)**2)/len(var2))\n",
    "            \n",
    "            delta_b0_hat = new_b0 + cur_b1*var1\n",
    "            delta_b0_rmse = np.sqrt(sum((var2 - delta_b0_hat)**2)/len(var2))\n",
    "            delta_b0 = new_b0 - cur_b0\n",
    "            slop_b0 = (delta_b0_rmse - cur_b_rmse)/delta_b0\n",
    "            \n",
    "            delta_b1_hat = cur_b0 + new_b1*var1\n",
    "            delta_b1_rmse = np.sqrt(sum((var2 - delta_b1_hat)**2)/len(var2))\n",
    "            delta_b1 = new_b1 - cur_b1\n",
    "            slop_b1 = (delta_b1_rmse - cur_b_rmse)/delta_b1\n",
    "            \n",
    "            cur_b0 = new_b0\n",
    "            cur_b1 = new_b1\n",
    "            \n",
    "        else:\n",
    "            cur_b0 = new_b0\n",
    "            cur_b1 = new_b1\n",
    "            predict1 = cur_b0 + cur_b1*10000\n",
    "            predict2 = cur_b0 + cur_b1*25000\n",
    "            predict3 = cur_b0 + cur_b1*35000\n",
    "            break\n",
    "            \n",
    "    return print (\"\\nThe optimal value for b0 is = \", cur_b0, \"\\nThe optimal value for b1 is = \", cur_b1,\n",
    "                  \"\\nIteration Times:\", b_length, \n",
    "                  \"\\nThe predicted selling price with km_driven = 10000 is\", predict1,\n",
    "                  \"\\nThe predicted selling price with km_driven = 25000 is\", predict2, \n",
    "                  \"\\nThe predicted selling price with km_driven = 35000 is\", predict3)"
   ]
  },
  {
   "cell_type": "code",
   "execution_count": 88,
   "id": "a44499ab-2e90-4a3e-8eff-5e1ffe098dfc",
   "metadata": {},
   "outputs": [
    {
     "name": "stdout",
     "output_type": "stream",
     "text": [
      "\n",
      "The optimal value for b0 is =  60000.01569766449 \n",
      "The optimal value for b1 is =  -0.13243632542517977 \n",
      "Iteration Times: 3 \n",
      "The predicted selling price with km_driven = 10000 is 58675.65244341269 \n",
      "The predicted selling price with km_driven = 25000 is 56689.107562034995 \n",
      "The predicted selling price with km_driven = 35000 is 55364.74430778319\n"
     ]
    }
   ],
   "source": [
    "find_best_c_g_var(bikeDetails.km_driven, bikeDetails.selling_price, 1, 0.000005, 60000, 0, 1000)"
   ]
  },
  {
   "cell_type": "code",
   "execution_count": null,
   "id": "88024afc-5aa6-4683-b477-f9dce78e4a85",
   "metadata": {},
   "outputs": [],
   "source": []
  },
  {
   "cell_type": "code",
   "execution_count": null,
   "id": "3a286734-efc2-4824-bb15-1a2d35f90411",
   "metadata": {},
   "outputs": [],
   "source": []
  },
  {
   "cell_type": "code",
   "execution_count": null,
   "id": "e68928e0-c885-4dbf-b46d-a9fbd027a7f4",
   "metadata": {},
   "outputs": [],
   "source": []
  },
  {
   "cell_type": "code",
   "execution_count": null,
   "id": "f2f6fec3-e79f-46af-ac79-bd8f86573c75",
   "metadata": {},
   "outputs": [],
   "source": []
  },
  {
   "cell_type": "code",
   "execution_count": null,
   "id": "88829993-5e97-4449-915d-5df1c1217c2a",
   "metadata": {},
   "outputs": [],
   "source": []
  },
  {
   "cell_type": "code",
   "execution_count": null,
   "id": "e09cac20-6a53-4d3b-8b1a-82689ef9ec43",
   "metadata": {},
   "outputs": [],
   "source": []
  },
  {
   "cell_type": "code",
   "execution_count": null,
   "id": "a2b9a95f-9dd6-4afc-86da-a7b2c3552511",
   "metadata": {},
   "outputs": [],
   "source": []
  },
  {
   "cell_type": "code",
   "execution_count": null,
   "id": "d856151d-6dfc-4f9e-bfd2-594c84f2bdb9",
   "metadata": {},
   "outputs": [],
   "source": []
  },
  {
   "cell_type": "code",
   "execution_count": null,
   "id": "bcd90727-f02d-408d-be82-19c8834d0a27",
   "metadata": {},
   "outputs": [],
   "source": []
  },
  {
   "cell_type": "code",
   "execution_count": null,
   "id": "78366870-a5a3-4830-bec8-cc0ced424fc4",
   "metadata": {},
   "outputs": [],
   "source": []
  },
  {
   "cell_type": "code",
   "execution_count": null,
   "id": "f4e87361-4ffc-44f3-ba6a-062b648f27d0",
   "metadata": {},
   "outputs": [],
   "source": []
  },
  {
   "cell_type": "code",
   "execution_count": null,
   "id": "481edd17-c0fb-4c17-a41a-d3bf45a94d0d",
   "metadata": {},
   "outputs": [],
   "source": []
  },
  {
   "cell_type": "code",
   "execution_count": null,
   "id": "561e8bae-fe3b-444e-b950-8991b2be5b46",
   "metadata": {},
   "outputs": [],
   "source": []
  },
  {
   "cell_type": "code",
   "execution_count": null,
   "id": "e9d2ac3b-0c5f-4f8f-a641-1e01b237b3c5",
   "metadata": {},
   "outputs": [],
   "source": []
  },
  {
   "cell_type": "code",
   "execution_count": null,
   "id": "858bf852-ad03-4c5c-8fa5-adb4fbfda2d8",
   "metadata": {},
   "outputs": [],
   "source": []
  },
  {
   "cell_type": "code",
   "execution_count": null,
   "id": "c79e0524-e862-44d1-a554-39c27bed50eb",
   "metadata": {},
   "outputs": [],
   "source": []
  },
  {
   "cell_type": "code",
   "execution_count": null,
   "id": "6d022995-588e-424a-bef7-8237ef80d9de",
   "metadata": {},
   "outputs": [],
   "source": []
  },
  {
   "cell_type": "code",
   "execution_count": null,
   "id": "bf285985-116a-4153-a015-ef58377d2ac2",
   "metadata": {},
   "outputs": [],
   "source": []
  },
  {
   "cell_type": "code",
   "execution_count": null,
   "id": "80e08635-0887-4599-a34f-16c5f65a6e7b",
   "metadata": {},
   "outputs": [],
   "source": []
  },
  {
   "cell_type": "code",
   "execution_count": null,
   "id": "3726a3bc-ebaa-4eb7-a963-c1709078bb51",
   "metadata": {},
   "outputs": [],
   "source": []
  },
  {
   "cell_type": "code",
   "execution_count": null,
   "id": "e048858d-6e32-4590-9a79-cc2fe21d0c75",
   "metadata": {},
   "outputs": [],
   "source": []
  },
  {
   "cell_type": "code",
   "execution_count": null,
   "id": "eb5fcbd9-1adb-434f-b507-e95b134d0812",
   "metadata": {},
   "outputs": [],
   "source": []
  },
  {
   "cell_type": "code",
   "execution_count": null,
   "id": "ba711fbf-d73e-480a-b712-26e45b1ba097",
   "metadata": {},
   "outputs": [],
   "source": []
  },
  {
   "cell_type": "code",
   "execution_count": null,
   "id": "bde9de34-ff12-49e8-b421-01eb898f6221",
   "metadata": {},
   "outputs": [],
   "source": []
  },
  {
   "cell_type": "code",
   "execution_count": null,
   "id": "e0d075cb-90ad-4f0c-a5bf-b3ee16f407de",
   "metadata": {},
   "outputs": [],
   "source": []
  },
  {
   "cell_type": "code",
   "execution_count": null,
   "id": "24f78d6d-b770-4396-8576-0ac7f53f2f32",
   "metadata": {},
   "outputs": [],
   "source": []
  },
  {
   "cell_type": "code",
   "execution_count": null,
   "id": "9f8958f5-be38-4614-93d4-0d946981c1a1",
   "metadata": {},
   "outputs": [],
   "source": []
  },
  {
   "cell_type": "code",
   "execution_count": null,
   "id": "36eb2e82-6b8d-41a9-9254-80f521f833d0",
   "metadata": {},
   "outputs": [],
   "source": []
  },
  {
   "cell_type": "code",
   "execution_count": null,
   "id": "c963661c-f2b1-4016-a44d-a38d2c573e3f",
   "metadata": {},
   "outputs": [],
   "source": []
  }
 ],
 "metadata": {
  "kernelspec": {
   "display_name": "Python 3 (ipykernel)",
   "language": "python",
   "name": "python3"
  },
  "language_info": {
   "codemirror_mode": {
    "name": "ipython",
    "version": 3
   },
   "file_extension": ".py",
   "mimetype": "text/x-python",
   "name": "python",
   "nbconvert_exporter": "python",
   "pygments_lexer": "ipython3",
   "version": "3.10.1"
  }
 },
 "nbformat": 4,
 "nbformat_minor": 5
}
